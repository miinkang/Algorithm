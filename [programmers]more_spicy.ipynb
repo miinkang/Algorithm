{
 "cells": [
  {
   "attachments": {
    "image-3.png": {
     "image/png": "[encoded data removed]"
    }
   },
   "cell_type": "markdown",
   "metadata": {},
   "source": [
    "# 더 맵게\n",
    "- source : [더 맵게](https://programmers.co.kr/learn/courses/30/lessons/42626)\n",
    "- level : 2\n",
    "- type : 힙\n",
    "\n",
    "## 문제 설명 \n",
    "매운 것을 좋아하는 Leo는 모든 음식의 스코빌 지수를 K 이상으로 만들고 싶습니다. 모든 음식의 스코빌 지수를 K 이상으로 만들기 위해 Leo는 스코빌 지수가 가장 낮은 두 개의 음식을 아래와 같이 특별한 방법으로 섞어 새로운 음식을 만듭니다.\n",
    "\n",
    "``섞은 음식의 스코빌 지수 = 가장 맵지 않은 음식의 스코빌 지수 + (두 번째로 맵지 않은 음식의 스코빌 지수 * 2)``\n",
    "\n",
    "Leo는 모든 음식의 스코빌 지수가 K 이상이 될 때까지 반복하여 섞습니다.\n",
    "Leo가 가진 음식의 스코빌 지수를 담은 배열 scoville과 원하는 스코빌 지수 K가 주어질 때, 모든 음식의 스코빌 지수를 K 이상으로 만들기 위해 섞어야 하는 최소 횟수를 return 하도록 solution 함수를 작성해주세요.\n",
    "\n",
    "\n",
    "### 제한 사항\n",
    "- scoville의 길이는 2 이상 1,000,000 이하입니다.\n",
    "- K는 0 이상 1,000,000,000 이하입니다.\n",
    "- scoville의 원소는 각각 0 이상 1,000,000 이하입니다.\n",
    "- 모든 음식의 스코빌 지수를 K 이상으로 만들 수 없는 경우에는 -1을 return 합니다.\n",
    "\n",
    "\n",
    "![image-3.png](attachment:image-3.png)\n",
    "\n",
    "### 입출력 예 설명 \n",
    "\n",
    "1. 스코빌 지수가 1인 음식과 2인 음식을 섞으면 음식의 스코빌 지수가 아래와 같이 됩니다.\n",
    "- 새로운 음식의 스코빌 지수 = 1 + (2 * 2) = 5\n",
    "- 가진 음식의 스코빌 지수 = [5, 3, 9, 10, 12]\n",
    "\n",
    "2. 스코빌 지수가 3인 음식과 5인 음식을 섞으면 음식의 스코빌 지수가 아래와 같이 됩니다.\n",
    "- 새로운 음식의 스코빌 지수 = 3 + (5 * 2) = 13\n",
    "- 가진 음식의 스코빌 지수 = [13, 9, 10, 12]\n",
    "\n",
    "모든 음식의 스코빌 지수가 7 이상이 되었고 이때 섞은 횟수는 2회입니다."
   ]
  },
  {
   "cell_type": "markdown",
   "metadata": {},
   "source": [
    "## 1 trial\n",
    "\n",
    "- 정확성 문제 1, 3, 8, 14에서 실패(런타임 에러) 코드\n",
    "- 문제 : 리스트 길이가 0일 경우, out of range 에러 발생"
   ]
  },
  {
   "cell_type": "code",
   "execution_count": null,
   "metadata": {},
   "outputs": [],
   "source": [
    "## pseudo code \n",
    "\n",
    "'''\n",
    "1. 스코빌 리스트 정렬 \n",
    "2. 인덱스 0, 인덱스 1인 음식 pop \n",
    "3. 인덱스 0, 인덱스 1인 음식 더해서 insert, count +=1  \n",
    "4. k 검증 \n",
    "5. 반복 \n",
    "'''\n",
    "\n",
    "## hint : 꼭 힙으로 풀기 "
   ]
  },
  {
   "cell_type": "code",
   "execution_count": 1,
   "metadata": {},
   "outputs": [],
   "source": [
    "import heapq"
   ]
  },
  {
   "cell_type": "code",
   "execution_count": 21,
   "metadata": {},
   "outputs": [],
   "source": [
    "def solution(scoville, K):\n",
    "    heapq.heapify(scoville)\n",
    "\n",
    "    cnt = 0\n",
    "    min_food = heapq.heappop(scoville)\n",
    "\n",
    "    while min_food < K:\n",
    "        temp_1 = heapq.heappop(scoville)\n",
    "        new = min_food + (temp_1 *2)\n",
    "        heapq.heappush(scoville, new)\n",
    "\n",
    "        cnt += 1\n",
    "        min_food = heapq.heappop(scoville)\n",
    "        \n",
    "        if min_food >= K:\n",
    "            return cnt\n",
    "        \n",
    "    return -1"
   ]
  },
  {
   "cell_type": "markdown",
   "metadata": {},
   "source": [
    "## 2 trial = 정답 !\n",
    "- 문제가 되는 경우에 대해 if문을 이용해 break한 후 해결함 \n",
    "- vscode debug mode 최고 !"
   ]
  },
  {
   "cell_type": "code",
   "execution_count": 22,
   "metadata": {},
   "outputs": [
    {
     "name": "stdout",
     "output_type": "stream",
     "text": [
      "-1\n",
      "-1\n",
      "2\n",
      "1\n",
      "1\n",
      "1\n",
      "1\n",
      "1\n",
      "1\n"
     ]
    }
   ],
   "source": [
    "def solution(scoville, K):\n",
    "    heapq.heapify(scoville)\n",
    "\n",
    "    cnt = 0\n",
    "    min_food = heapq.heappop(scoville)\n",
    "\n",
    "    while min_food < K:\n",
    "        # 원소가 두 개인 경우 등 빈 리스트일 때 out of range에러를 막기 위해 break한다. \n",
    "        if len(scoville) == 0:\n",
    "            break\n",
    "        temp_1 = heapq.heappop(scoville)\n",
    "        new = min_food + (temp_1 *2)\n",
    "        heapq.heappush(scoville, new)\n",
    "\n",
    "        cnt += 1\n",
    "        min_food = heapq.heappop(scoville)\n",
    "        \n",
    "    if min_food >= K:\n",
    "        return cnt\n",
    "    \n",
    "    else:\n",
    "        return -1\n",
    "\n",
    "# vscode에서 debug모드로 풀고 여러 테스트 케이스 실험용 코드\n",
    "# 테스트 케이스 참고 : https://programmers.co.kr/questions/18150\n",
    "if __name__ == '__main__':\n",
    "    s = [[0, 0], [1,2], [1,2,3], [7, 1], [3, 4], [4, 4], [3, 3], [1,5], [2,3,7,10,15]]\n",
    "    k = 7\n",
    "    for i in s:\n",
    "        print(solution(i, k))"
   ]
  }
 ],
 "metadata": {
  "kernelspec": {
   "display_name": "Python 3",
   "language": "python",
   "name": "python3"
  },
  "language_info": {
   "codemirror_mode": {
    "name": "ipython",
    "version": 3
   },
   "file_extension": ".py",
   "mimetype": "text/x-python",
   "name": "python",
   "nbconvert_exporter": "python",
   "pygments_lexer": "ipython3",
   "version": "3.7.9"
  }
 },
 "nbformat": 4,
 "nbformat_minor": 4
}

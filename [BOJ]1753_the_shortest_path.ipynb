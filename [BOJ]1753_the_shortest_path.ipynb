{
 "cells": [
  {
   "attachments": {
    "image-2.png": {
     "image/png": "[encoded data removed]"
    }
   },
   "cell_type": "markdown",
   "metadata": {},
   "source": [
    "# 최단경로\n",
    "- source : [백준 1753](https://www.acmicpc.net/problem/1753)\n",
    "- 난이도 : 골드 IV\n",
    "- 분류 : 그래프 이론, 데이크스트라\n",
    "\n",
    "## 문제\n",
    "- 방향그래프가 주어지면 주어진 시작점에서 다른 모든 정점으로의 최단 경로를 구하는 프로그램을 작성하시오. 단, 모든 간선의 가중치는 10 이하의 자연수이다.\n",
    "    \n",
    "## 입력\n",
    "- 첫째 줄에 정점의 개수 V와 간선의 개수 E가 주어진다. (1 ≤ V ≤ 20,000, 1 ≤ E ≤ 300,000) 모든 정점에는 1부터 V까지 번호가 매겨져 있다고 가정한다. 둘째 줄에는 시작 정점의 번호 K(1 ≤ K ≤ V)가 주어진다. 셋째 줄부터 E개의 줄에 걸쳐 각 간선을 나타내는 세 개의 정수 (u, v, w)가 순서대로 주어진다. 이는 u에서 v로 가는 가중치 w인 간선이 존재한다는 뜻이다. u와 v는 서로 다르며 w는 10 이하의 자연수이다. 서로 다른 두 정점 사이에 여러 개의 간선이 존재할 수도 있음에 유의한다.\n",
    "\n",
    "## 출력\n",
    "- 첫째 줄부터 V개의 줄에 걸쳐, i번째 줄에 i번 정점으로의 최단 경로의 경로값을 출력한다. 시작점 자신은 0으로 출력하고, 경로가 존재하지 않는 경우에는 INF를 출력하면 된다.\n",
    "\n",
    "- 만약, 어떤 알파벳이 단어에 포함되어 있지 않다면 -1을 출력한다. 단어의 첫 번째 글자는 0번째 위치이고, 두 번째 글자는 1번째 위치이다.\n",
    "\n",
    "![image-2.png](attachment:image-2.png)"
   ]
  },
  {
   "cell_type": "code",
   "execution_count": 6,
   "metadata": {},
   "outputs": [
    {
     "name": "stdout",
     "output_type": "stream",
     "text": [
      "9223372036854775807\n",
      "1000000000\n"
     ]
    }
   ],
   "source": [
    "import sys\n",
    "\n",
    "INF = sys.maxsize\n",
    "print(INF)\n",
    "INF2 = int(1e9)\n",
    "print(INF2)"
   ]
  },
  {
   "cell_type": "code",
   "execution_count": 17,
   "metadata": {},
   "outputs": [
    {
     "data": {
      "text/plain": [
       "4"
      ]
     },
     "execution_count": 17,
     "metadata": {},
     "output_type": "execute_result"
    }
   ],
   "source": [
    "v"
   ]
  },
  {
   "cell_type": "code",
   "execution_count": 16,
   "metadata": {},
   "outputs": [
    {
     "data": {
      "text/plain": [
       "[9223372036854775807,\n",
       " 9223372036854775807,\n",
       " 9223372036854775807,\n",
       " 9223372036854775807,\n",
       " 9223372036854775807]"
      ]
     },
     "execution_count": 16,
     "metadata": {},
     "output_type": "execute_result"
    }
   ],
   "source": [
    "dp = [INF]*(v+1)\n",
    "dp"
   ]
  },
  {
   "cell_type": "code",
   "execution_count": 25,
   "metadata": {},
   "outputs": [
    {
     "name": "stdout",
     "output_type": "stream",
     "text": [
      "[[], [(2, 2), (3, 3)], [(3, 4), (4, 5)], [(4, 6)], [], [(1, 1)]]\n",
      "[(1, 0)]\n",
      "[9223372036854775807, 0, 2, 9223372036854775807, 9223372036854775807, 9223372036854775807]\n",
      "[9223372036854775807, 0, 2, 3, 9223372036854775807, 9223372036854775807]\n",
      "[9223372036854775807, 0, 2, 3, 7, 9223372036854775807]\n",
      "[9223372036854775807, 0, 2, 3, 7, 9223372036854775807]\n",
      "0\n",
      "2\n",
      "3\n",
      "7\n",
      "INF\n"
     ]
    }
   ],
   "source": [
    "import heapq\n",
    "import sys \n",
    "\n",
    "V, E = 5, 6\n",
    "K = 1\n",
    "graph_tmp = [[5, 1, 1],\n",
    "[1, 2, 2],\n",
    "[1, 3, 3],\n",
    "[2, 3, 4],\n",
    "[2, 4, 5],\n",
    "[3, 4, 6]]\n",
    "\n",
    "INF = sys.maxsize\n",
    "dp = [INF] * (V+1)\n",
    "heap = []\n",
    "\n",
    "graph = [[] for _ in range(V+1)]\n",
    "for u, v, w in graph_tmp:\n",
    "    graph[u].append((v, w))\n",
    "print(graph)\n",
    "\n",
    "def dijkstra(start):\n",
    "    dp[start] = 0\n",
    "    heapq.heappush(heap, (start, 0))\n",
    "    print(heap)\n",
    "    while heap:\n",
    "        now, wei = heapq.heappop(heap)\n",
    "        \n",
    "        if dp[now] < wei:\n",
    "            continue\n",
    "        \n",
    "        for next_node, w in graph[now]:  # 현재 노드에서 갈 수 있는 모든 간선을 탐색 \n",
    "            next_wei = w + wei           # start부터 다음 노드까지의 가중치 합 \n",
    "            \n",
    "            if next_wei < dp[next_node]: # 최솟값인지 확인 \n",
    "                dp[next_node] = next_wei\n",
    "                print(dp)\n",
    "                heapq.heappush(heap, (next_node, next_wei))\n",
    "\n",
    "dijkstra(K)\n",
    "print(dp)\n",
    "for i in range(1, V+1):\n",
    "    print(\"INF\" if dp[i] == INF else dp[i])"
   ]
  },
  {
   "cell_type": "markdown",
   "metadata": {},
   "source": [
    "**최종코드**"
   ]
  },
  {
   "cell_type": "code",
   "execution_count": 5,
   "metadata": {},
   "outputs": [
    {
     "name": "stdout",
     "output_type": "stream",
     "text": [
      "baekjoon\n",
      "1 0 -1 -1 2 -1 -1 -1 -1 4 3 -1 -1 7 5 -1 -1 -1 -1 -1 -1 -1 -1 -1 -1 -1\n"
     ]
    }
   ],
   "source": [
    "import sys\n",
    "inp = sys.stdin.readline\n",
    "\n",
    "import heapq\n",
    "\n",
    "V, E = map(int, inp().split())\n",
    "K = int(inp())\n",
    "\n",
    "graph = [[] for _ in range(V+1)]\n",
    "for _ in range(E):\n",
    "    u, v, w = map(int, inp().split())\n",
    "    graph[u].append((w, v))\n",
    "\n",
    "INF = sys.maxsize\n",
    "dp = [INF] * (V+1)\n",
    "heap = []\n",
    "\n",
    "def dijkstra(start):\n",
    "    dp[start] = 0\n",
    "    heapq.heappush(heap, (0, start))\n",
    "    while heap:\n",
    "        wei, now = heapq.heappop(heap)\n",
    "        \n",
    "        if dp[now] < wei:\n",
    "            continue\n",
    "        \n",
    "        for w, next_node in graph[now]:\n",
    "            next_wei = w + wei # start부터 다음 노드까지의 가중치 합 \n",
    "            \n",
    "            if next_wei < dp[next_node]:\n",
    "                dp[next_node] = next_wei\n",
    "                \n",
    "                heapq.heappush(heap, (next_wei, next_node))\n",
    "\n",
    "dijkstra(K)\n",
    "for i in range(1, V+1):\n",
    "    print(\"INF\" if dp[i] == INF else dp[i])"
   ]
  },
  {
   "cell_type": "markdown",
   "metadata": {},
   "source": [
    "- 다익스트라 기본 구조를 사용하면 풀리는 문제\n",
    "- 익숙해지도록 이 구조를 여러번 연습해야겠다. "
   ]
  },
  {
   "attachments": {
    "image-2.png": {
     "image/png": "[encoded data removed]"
    }
   },
   "cell_type": "markdown",
   "metadata": {},
   "source": [
    "![image-2.png](attachment:image-2.png)\n",
    "\n",
    "- [코드 출처](https://sungmin-joo.tistory.com/33)"
   ]
  }
 ],
 "metadata": {
  "kernelspec": {
   "display_name": "Python 3",
   "language": "python",
   "name": "python3"
  },
  "language_info": {
   "codemirror_mode": {
    "name": "ipython",
    "version": 3
   },
   "file_extension": ".py",
   "mimetype": "text/x-python",
   "name": "python",
   "nbconvert_exporter": "python",
   "pygments_lexer": "ipython3",
   "version": "3.7.9"
  }
 },
 "nbformat": 4,
 "nbformat_minor": 4
}

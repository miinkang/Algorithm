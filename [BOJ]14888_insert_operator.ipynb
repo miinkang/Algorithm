{
 "cells": [
  {
   "cell_type": "markdown",
   "metadata": {},
   "source": [
    "# 알파벳 찾기\n",
    "- source : [백준 14888](https://www.acmicpc.net/problem/14888)\n",
    "- 난이도 : 실버 I\n",
    "- 분류 : 브루트포스 알고리즘, 백트래킹 \n",
    "\n",
    "## 문제\n",
    "- N개의 수로 이루어진 수열 A1, A2, ..., AN이 주어진다. 또, 수와 수 사이에 끼워넣을 수 있는 N-1개의 연산자가 주어진다. 연산자는 덧셈(+), 뺄셈(-), 곱셈(×), 나눗셈(÷)으로만 이루어져 있다.\n",
    "\n",
    "- 우리는 수와 수 사이에 연산자를 하나씩 넣어서, 수식을 하나 만들 수 있다. 이때, 주어진 수의 순서를 바꾸면 안 된다.\n",
    "\n",
    "- 예를 들어, 6개의 수로 이루어진 수열이 1, 2, 3, 4, 5, 6이고, 주어진 연산자가 덧셈(+) 2개, 뺄셈(-) 1개, 곱셈(×) 1개, 나눗셈(÷) 1개인 경우에는 총 60가지의 식을 만들 수 있다. 예를 들어, 아래와 같은 식을 만들 수 있다.\n",
    "\n",
    "```\n",
    "1+2+3-4×5÷6\n",
    "1÷2+3+4-5×6\n",
    "1+2÷3×4-5+6\n",
    "1÷2×3-4+5+6\n",
    "```\n",
    "\n",
    "- 식의 계산은 연산자 우선 순위를 무시하고 앞에서부터 진행해야 한다. 또, 나눗셈은 정수 나눗셈으로 몫만 취한다. 음수를 양수로 나눌 때는 C++14의 기준을 따른다. 즉, 양수로 바꾼 뒤 몫을 취하고, 그 몫을 음수로 바꾼 것과 같다. 이에 따라서, 위의 식 4개의 결과를 계산해보면 아래와 같다.\n",
    "\n",
    "```\n",
    "1+2+3-4×5÷6 = 1\n",
    "1÷2+3+4-5×6 = 12\n",
    "1+2÷3×4-5+6 = 5\n",
    "1÷2×3-4+5+6 = 7\n",
    "```\n",
    "\n",
    "- N개의 수와 N-1개의 연산자가 주어졌을 때, 만들 수 있는 식의 결과가 최대인 것과 최소인 것을 구하는 프로그램을 작성하시오.\n",
    "    \n",
    "## 입력\n",
    "- 첫째 줄에 수의 개수 N(2 ≤ N ≤ 11)가 주어진다. 둘째 줄에는 A1, A2, ..., AN이 주어진다. (1 ≤ Ai ≤ 100) 셋째 줄에는 합이 N-1인 4개의 정수가 주어지는데, 차례대로 덧셈(+)의 개수, 뺄셈(-)의 개수, 곱셈(×)의 개수, 나눗셈(÷)의 개수이다. \n",
    "\n",
    "## 출력\n",
    "- 첫째 줄에 만들 수 있는 식의 결과의 최댓값을, 둘째 줄에는 최솟값을 출력한다. 연산자를 어떻게 끼워넣어도 항상 -10억보다 크거나 같고, 10억보다 작거나 같은 결과가 나오는 입력만 주어진다. 또한, 앞에서부터 계산했을 때, 중간에 계산되는 식의 결과도 항상 -10억보다 크거나 같고, 10억보다 작거나 같다."
   ]
  },
  {
   "cell_type": "markdown",
   "metadata": {},
   "source": [
    "규칙 정리\n",
    "1. 주어진 수의 순서를 바꿀 수 없다.\n",
    "2. 사칙연산 연산자를 사용한다.\n",
    "3. 연산 우선순위는 무시하고 순차적으로 연산한다.\n",
    "4. 나눗셈은 정수 나눗셈으로 몫만 취한다.\n",
    "5. 음수를 양수로 나눌 때는 양수로 바꾼 뒤 몫을 취하고 몫을 음수로 바꾼다.\n",
    "6. 만들 수 있는 결과의 최대값과 최소값을 구한다."
   ]
  },
  {
   "cell_type": "markdown",
   "metadata": {},
   "source": [
    "## 두 가지 풀이법\n",
    "1. 순열 이용 (permutation library)\n",
    "    - pypy에서 통과\n",
    "2. dfs 이용 \n",
    "    - 효율이 좋고 시간초과가 안나는 모범답안"
   ]
  },
  {
   "cell_type": "code",
   "execution_count": 29,
   "metadata": {},
   "outputs": [
    {
     "name": "stdout",
     "output_type": "stream",
     "text": [
      "{'A': ['B', 'C'], 'B': ['A', 'D'], 'D': ['B', 'E', 'F'], 'E': ['D'], 'F': ['D'], 'C': ['A', 'G', 'H', 'I'], 'G': ['C'], 'H': ['C'], 'I': ['C', 'J'], 'J': ['I']}\n"
     ]
    }
   ],
   "source": [
    "## dfs 알고리즘 복습 \n",
    "'''\n",
    "dfs란?\n",
    "- Depth First Search \n",
    "- 깊이 우선 탐색 \n",
    "\n",
    "탐색 원칙 \n",
    "1. 앞으로 찾아가야할 노드\n",
    "2. 이미 방문한 노드\n",
    "\n",
    "풀이 방법\n",
    "1. 스택/큐 활용 가능\n",
    "2. 재귀 활용 가능 \n",
    "'''\n",
    "\n",
    "graph = dict()\n",
    "\n",
    "graph['A'] = ['B', 'C']\n",
    "graph['B'] = ['A', 'D']\n",
    "graph['D'] = ['B', 'E', 'F']\n",
    "graph['E'] = ['D']\n",
    "graph['F'] = ['D']\n",
    "graph['C'] = ['A', 'G', 'H', 'I']\n",
    "graph['G'] = ['C']\n",
    "graph['H'] = ['C']\n",
    "graph['I'] = ['C', 'J']\n",
    "graph['J'] = ['I']\n",
    "\n",
    "print(graph)"
   ]
  },
  {
   "cell_type": "code",
   "execution_count": 28,
   "metadata": {},
   "outputs": [
    {
     "data": {
      "text/plain": [
       "['A', 'C', 'I', 'J', 'H', 'G', 'B', 'D', 'F', 'E']"
      ]
     },
     "execution_count": 28,
     "metadata": {},
     "output_type": "execute_result"
    }
   ],
   "source": [
    "# 큐 활용 \n",
    "def dfs(graph, start_node):\n",
    "    from collections import deque\n",
    "    visited = []  # 이미 방문한 노드를 담는 리스트 \n",
    "    need_visited = deque() # 앞으로 찾아가야할 노드를 담는 큐 \n",
    "    need_visited.append(start_node)\n",
    "    \n",
    "    while need_visited: # 큐가 빌 때까지 반복\n",
    "        n = need_visited.pop() # 오른쪽 원소 Pop\n",
    "        \n",
    "        if n not in visited:\n",
    "            visited.append(n)\n",
    "            need_visited.extend(graph[n])\n",
    "            \n",
    "    return visited\n",
    "\n",
    "dfs(graph, 'A')"
   ]
  },
  {
   "cell_type": "code",
   "execution_count": 30,
   "metadata": {},
   "outputs": [
    {
     "data": {
      "text/plain": [
       "['A', 'B', 'D', 'E', 'F', 'C', 'G', 'H', 'I', 'J']"
      ]
     },
     "execution_count": 30,
     "metadata": {},
     "output_type": "execute_result"
    }
   ],
   "source": [
    "# 재귀 활용 \n",
    "\n",
    "def dfs_recur(graph, start_node, visited=[]):\n",
    "    visited.append(start_node)\n",
    "    \n",
    "    for node in graph[start_node]:\n",
    "        if node not in visited:\n",
    "            dfs_recur(graph, node, visited)\n",
    "    return visited\n",
    "    \n",
    "dfs_recur(graph, 'A')"
   ]
  },
  {
   "cell_type": "markdown",
   "metadata": {},
   "source": [
    "### 큐와 재귀를 사용한 bfs의 차이점\n",
    "재귀는 왼쪽부터, 큐는 오른쪽부터 탐색한다. "
   ]
  },
  {
   "cell_type": "code",
   "execution_count": 31,
   "metadata": {},
   "outputs": [
    {
     "name": "stdout",
     "output_type": "stream",
     "text": [
      "-1000000000\n"
     ]
    }
   ],
   "source": [
    "maxn = -int(1e9)\n",
    "print(maxn)"
   ]
  },
  {
   "cell_type": "code",
   "execution_count": 3,
   "metadata": {
    "scrolled": true
   },
   "outputs": [
    {
     "name": "stdout",
     "output_type": "stream",
     "text": [
      "30\n",
      "30\n"
     ]
    }
   ],
   "source": [
    "n = 2\n",
    "number = [5, 6]\n",
    "op = [0, 0, 1, 0]\n",
    "minR = int(1e9)\n",
    "maxR = -int(1e9)\n",
    "\n",
    "answer = number[0]\n",
    "\n",
    "def dfs(idx):\n",
    "    global answer\n",
    "    global minR, maxR\n",
    "    \n",
    "    if idx == n:          # 전체 수열을 다 돌았을 때 \n",
    "        if answer > maxR:\n",
    "            maxR = answer\n",
    "        if answer < minR:\n",
    "            minR = answer\n",
    "        return\n",
    "    \n",
    "    for i in range(4):\n",
    "        tmp = answer\n",
    "        if op[i] > 0:\n",
    "            if i == 0:   # + 연산 \n",
    "                answer += number[idx]\n",
    "            elif i == 1: # - 연산\n",
    "                answer -= number[idx]\n",
    "            elif i == 2: # * 연산\n",
    "                answer *= number[idx]\n",
    "            else:        # // 연산, 음수일 때 계산법이 다르니 주의 \n",
    "                if answer > 0 :\n",
    "                    answer //= number[idx]\n",
    "                else:\n",
    "                    answer = (-(answer)//number[idx]) * -1\n",
    "            \n",
    "            op[i] -= 1\n",
    "            dfs(idx+1) # 계산한 숫자를 저장한 채로 dfs 에 넣기\n",
    "            answer = tmp # 다시 기존 값으로 돌아가기 (백트래킹)\n",
    "            op[i] += 1   # 다시 기존 값으로 돌아가기 (백트래킹)\n",
    "\n",
    "dfs(1)\n",
    "print(maxR)\n",
    "print(minR)"
   ]
  },
  {
   "cell_type": "code",
   "execution_count": 4,
   "metadata": {},
   "outputs": [
    {
     "name": "stdout",
     "output_type": "stream",
     "text": [
      "30\n",
      "30\n"
     ]
    }
   ],
   "source": [
    "n = 2\n",
    "number = [5, 6]\n",
    "op = [0, 0, 1, 0]\n",
    "minR = int(1e9)\n",
    "maxR = -int(1e9)\n",
    "\n",
    "answer = number[0]\n",
    "\n",
    "def dfs(idx):\n",
    "    global answer\n",
    "    global minR, maxR\n",
    "    \n",
    "    if idx == n:\n",
    "        if answer > maxR:\n",
    "            maxR = answer\n",
    "        if answer < minR:\n",
    "            minR = answer\n",
    "    \n",
    "    for i in range(4):\n",
    "        tmp = answer\n",
    "        if op[i] > 0:\n",
    "            if i == 0:\n",
    "                answer += number[idx]\n",
    "            \n",
    "            elif i == 1:\n",
    "                answer -= number[idx]\n",
    "            \n",
    "            elif i == 2:\n",
    "                answer *= number[idx]\n",
    "            \n",
    "            else:\n",
    "                answer = (-answer // number[idx]) * -1\n",
    "            \n",
    "            op[i] -= 1\n",
    "            dfs(idx+1)\n",
    "            answer = tmp \n",
    "            op[i] += 1\n",
    "\n",
    "dfs(1)\n",
    "print(maxR)\n",
    "print(minR)"
   ]
  },
  {
   "cell_type": "markdown",
   "metadata": {},
   "source": [
    "수열 = 3, 4, 5    \n",
    "연산자 = 1, 0, 1, 0   \n",
    "\n",
    "- dfs(1)\n",
    "    - for 0 \n",
    "    - ans = 3+4 = 7\n",
    "    - op = 0, 0, 1, 0  // 재귀 : dfs(1+1) \n",
    "    - dfs(2)\n",
    "        - ans = 7*5 = 35 \n",
    "        - op = 0, 0, 0, 0 // recur : dfs(2+1)\n",
    "        - dfs(3)\n",
    "            - return : maxR, minR = 35\n",
    "    - backtracking // ans = 3, op = 1, 0, 1, 0 \n",
    "    - for 2\n",
    "    - ans = 3*4 = 12\n",
    "    - op = 1, 0, 0, 0 // recur : dfs(1+1)\n",
    "    - dfs(2) \n",
    "        - ans = 12+5 = 17\n",
    "        - ops = 0, 0, 0, 0 // recur : dfs(2+1)\n",
    "        - dfs(3)\n",
    "            - return : maxR = 35, minR = 17 \n",
    "    - backtracking // ans = 3, op = 1, 0, 1, 0"
   ]
  },
  {
   "cell_type": "code",
   "execution_count": 6,
   "metadata": {},
   "outputs": [
    {
     "name": "stdout",
     "output_type": "stream",
     "text": [
      "30\n",
      "30\n"
     ]
    }
   ],
   "source": [
    "n = 2\n",
    "number = [5, 6]\n",
    "op = [0, 0, 1, 0]\n",
    "minR = int(1e9)\n",
    "maxR = -int(1e9)\n",
    "\n",
    "answer = number[0]\n",
    "\n",
    "def dfs(idx):\n",
    "    global answer\n",
    "    global minR, maxR\n",
    "    if idx == n:\n",
    "        if answer > maxR:\n",
    "            maxR = answer\n",
    "        if answer < minR:\n",
    "            minR = answer\n",
    "    \n",
    "    for i in range(4):\n",
    "        tmp = answer\n",
    "        if op[i] > 0:\n",
    "            if i == 0: # plus\n",
    "                answer += number[idx]\n",
    "            elif i == 1: # minus\n",
    "                answer -= number[idx]\n",
    "            elif i == 2: # multiple\n",
    "                answer *= number[idx]\n",
    "            else: # divide\n",
    "                answer = (-answer//number[idx]) * -1\n",
    "            \n",
    "            op[i] -= 1\n",
    "            dfs(idx+1)\n",
    "            op[i] += 1\n",
    "            answer = tmp \n",
    "\n",
    "dfs(1)\n",
    "print(maxR)\n",
    "print(minR)"
   ]
  },
  {
   "cell_type": "code",
   "execution_count": 4,
   "metadata": {},
   "outputs": [
    {
     "name": "stdout",
     "output_type": "stream",
     "text": [
      "35\n",
      "17\n"
     ]
    }
   ],
   "source": [
    "# 연산 단계별 dfs\n",
    "# 백트래킹 \n",
    "\n",
    "N = 3  # 수의 개수\n",
    "seq = [3, 4, 5]  # 수열 \n",
    "ops = [1, 0, 1, 0] # +, - , * , // 의 개수\n",
    "\n",
    "maxR = -1e9  # max range\n",
    "minR = 1e9   # min range\n",
    "\n",
    "\n",
    "\n",
    "def dfs(depth, answer, plus, minus, multiple, divide):\n",
    "#     global answer\n",
    "    global maxR, minR\n",
    "    \n",
    "    if depth == N: # 전체 수열을 다 돌았을 때\n",
    "        if answer > maxR:\n",
    "            maxR = answer\n",
    "        if answer < minR:\n",
    "            minR = answer\n",
    "    \n",
    "    if plus:\n",
    "        dfs(depth+1, answer+seq[depth], plus-1, minus, multiple, divide)\n",
    "        \n",
    "    if minus:\n",
    "        dfs(depth+1, answer-seq[depth], plus, minus-1, multiple, divide)\n",
    "        \n",
    "    if multiple:\n",
    "        dfs(depth+1, answer*seq[depth], plus, minus, multiple-1, divide)\n",
    "        \n",
    "    if divide:\n",
    "        dfs(depth+1, -((-answer)//seq[depth]), plus, minus, multiple, divide-1)\n",
    "        \n",
    "    \n",
    "\n",
    "dfs(1, seq[0], ops[0], ops[1], ops[2], ops[3])\n",
    "print(maxR)\n",
    "print(minR)"
   ]
  },
  {
   "cell_type": "code",
   "execution_count": 11,
   "metadata": {},
   "outputs": [
    {
     "name": "stdout",
     "output_type": "stream",
     "text": [
      "54\n",
      "-24\n"
     ]
    }
   ],
   "source": [
    "# 연산 단계별 dfs\n",
    "# 백트래킹 \n",
    "\n",
    "N = 6  # 수의 개수\n",
    "seq = [1, 2, 3, 4, 5, 6]  # 수열 \n",
    "ops = [2,1,1,1] # +, - , * , // 의 개수\n",
    "\n",
    "maxR = -1e9  # max range\n",
    "minR = 1e9   # min range\n",
    "\n",
    "\n",
    "\n",
    "def dfs(depth, answer, plus, minus, multiple, divide):\n",
    "#     global answer\n",
    "    global maxR, minR\n",
    "    \n",
    "    if depth == N: # 전체 수열을 다 돌았을 때\n",
    "        if answer > maxR:\n",
    "            maxR = answer\n",
    "        if answer < minR:\n",
    "            minR = answer\n",
    "    \n",
    "    if plus:\n",
    "        dfs(depth+1, answer+seq[depth], plus-1, minus, multiple, divide)\n",
    "        \n",
    "    if minus:\n",
    "        dfs(depth+1, answer-seq[depth], plus, minus-1, multiple, divide)\n",
    "        \n",
    "    if multiple:\n",
    "        dfs(depth+1, answer*seq[depth], plus, minus, multiple-1, divide)\n",
    "        \n",
    "    if divide:\n",
    "        dfs(depth+1, int(answer/seq[depth]), plus, minus, multiple, divide-1)\n",
    "        \n",
    "    \n",
    "\n",
    "dfs(1, seq[0], ops[0], ops[1], ops[2], ops[3])\n",
    "print(maxR)\n",
    "print(minR)"
   ]
  },
  {
   "attachments": {
    "image-2.png": {
     "image/png": "[encoded data removed]"
    }
   },
   "cell_type": "markdown",
   "metadata": {},
   "source": [
    "![image-2.png](attachment:image-2.png)"
   ]
  }
 ],
 "metadata": {
  "kernelspec": {
   "display_name": "Python 3",
   "language": "python",
   "name": "python3"
  },
  "language_info": {
   "codemirror_mode": {
    "name": "ipython",
    "version": 3
   },
   "file_extension": ".py",
   "mimetype": "text/x-python",
   "name": "python",
   "nbconvert_exporter": "python",
   "pygments_lexer": "ipython3",
   "version": "3.7.9"
  }
 },
 "nbformat": 4,
 "nbformat_minor": 4
}

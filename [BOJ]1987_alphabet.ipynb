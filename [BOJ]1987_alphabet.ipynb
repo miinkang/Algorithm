{
 "cells": [
  {
   "attachments": {
    "image-8.png": {
     "image/png": "[encoded data removed]"
    }
   },
   "cell_type": "markdown",
   "metadata": {},
   "source": [
    "# 알파벳 \n",
    "- source : [백준 1987](https://www.acmicpc.net/problem/1987)\n",
    "- 난이도 : 골드 IV\n",
    "- 분류 : 그래프 이론, 그래프 탐색, 깊이 우선 탐색, 백트래킹\n",
    "\n",
    "## 문제\n",
    "- 세로 R칸, 가로 C칸으로 된 표 모양의 보드가 있다. 보드의 각 칸에는 대문자 알파벳이 하나씩 적혀 있고, 좌측 상단 칸 (1행 1열) 에는 말이 놓여 있다.\n",
    "\n",
    "- 말은 상하좌우로 인접한 네 칸 중의 한 칸으로 이동할 수 있는데, 새로 이동한 칸에 적혀 있는 알파벳은 지금까지 지나온 모든 칸에 적혀 있는 알파벳과는 달라야 한다. 즉, 같은 알파벳이 적힌 칸을 두 번 지날 수 없다.\n",
    "\n",
    "- 좌측 상단에서 시작해서, 말이 최대한 몇 칸을 지날 수 있는지를 구하는 프로그램을 작성하시오. 말이 지나는 칸은 좌측 상단의 칸도 포함된다.\n",
    "    \n",
    "## 입력\n",
    "- 첫째 줄에 R과 C가 빈칸을 사이에 두고 주어진다. (1 ≤ R,C ≤ 20) 둘째 줄부터 R개의 줄에 걸쳐서 보드에 적혀 있는 C개의 대문자 알파벳들이 빈칸 없이 주어진다.\n",
    "\n",
    "## 출력\n",
    "- 첫째 줄에 말이 지날 수 있는 최대의 칸 수를 출력한다.\n",
    "\n",
    "![image-8.png](attachment:image-8.png)"
   ]
  },
  {
   "cell_type": "code",
   "execution_count": 1,
   "metadata": {},
   "outputs": [],
   "source": [
    "r, c = 2, 4\n",
    "a = [\"CAAB\", \"ADCB\"]\n",
    "\n",
    "# 출력 \n",
    "# 3"
   ]
  },
  {
   "cell_type": "markdown",
   "metadata": {},
   "source": [
    "- 1. 지나온 알파벳을 저장하기\n",
    "- 2. 지나온 칸을 저장하기 \n",
    "- 3. 움직인 칸 수를 저장하기\n",
    "- 4. 칸 수 중 최대값을 출력 "
   ]
  },
  {
   "cell_type": "code",
   "execution_count": 6,
   "metadata": {},
   "outputs": [],
   "source": [
    "from collections import deque"
   ]
  },
  {
   "cell_type": "code",
   "execution_count": 10,
   "metadata": {},
   "outputs": [],
   "source": [
    "alpha = deque()\n",
    "\n",
    "visited = [[0 for _ in range(c)] for _ in range(r)]\n",
    "\n",
    "moved = []"
   ]
  },
  {
   "cell_type": "code",
   "execution_count": null,
   "metadata": {},
   "outputs": [],
   "source": [
    "dx = [-1, 1, 0, 0] # 상, 하, 좌, 우\n",
    "dy = [0, 0, -1, 1]\n",
    "\n",
    "def in_range(x, y):\n",
    "    return 0 <= x <= r-1 and 0 <= y <= c-1\n",
    "\n",
    "alpha.append(a[0][0]) # 시작 칸의 알파벳 더하기 \n",
    "visited[0][0] = 1\n",
    "\n",
    "while:\n",
    "    x, y = 0, 0\n",
    "    move = 1    # 시작 칸도 지날 수 있는 칸으로 센다.\n",
    "    \n",
    "    for i in range(4):\n",
    "        nx = x + dx[i]\n",
    "        ny = y + dy[i]\n",
    "        \n",
    "        if in_range(nx, ny):\n",
    "            if a[nx][ny] not in alpha:\n",
    "                x = nx\n",
    "                y = ny\n",
    "                alpha.append(a[x][y])\n",
    "                visited[x][y] = 1\n",
    "                "
   ]
  },
  {
   "cell_type": "markdown",
   "metadata": {},
   "source": [
    "- dfs로 풀기"
   ]
  },
  {
   "cell_type": "code",
   "execution_count": 18,
   "metadata": {},
   "outputs": [
    {
     "name": "stdout",
     "output_type": "stream",
     "text": [
      "3\n"
     ]
    }
   ],
   "source": [
    "r, c = 2, 4\n",
    "board = [\"CAAB\", \"ADCB\"]\n",
    "\n",
    "# 출력 \n",
    "# 3\n",
    "\n",
    "visited = [[False for _ in range(c)] for _ in range(r)]\n",
    "\n",
    "alpha = set()\n",
    "ans = 0\n",
    "\n",
    "dx = [-1, 1, 0, 0] # 상, 하, 좌, 우\n",
    "dy = [0, 0, -1, 1]\n",
    "\n",
    "def in_range(x, y):\n",
    "    return 0 <= x < r and 0 <= y < c\n",
    "\n",
    "def dfs(x, y, move):\n",
    "    global ans\n",
    "    ans = max(ans, move)\n",
    "    \n",
    "    for i in range(4):\n",
    "        nx = x + dx[i]\n",
    "        ny = y + dy[i]\n",
    "        \n",
    "        if not in_range(nx, ny):\n",
    "            continue\n",
    "        \n",
    "        if not visited[nx][ny] and board[nx][ny] not in alpha:\n",
    "            visited[nx][ny] = True\n",
    "            alpha.add(board[nx][ny])\n",
    "            move += 1\n",
    "            dfs(nx, ny, move)\n",
    "\n",
    "alpha.add(board[0][0])\n",
    "dfs(0, 0, 1)\n",
    "print(ans)"
   ]
  },
  {
   "cell_type": "code",
   "execution_count": 19,
   "metadata": {},
   "outputs": [
    {
     "name": "stdout",
     "output_type": "stream",
     "text": [
      "6\n"
     ]
    }
   ],
   "source": [
    "r, c = 3, 6\n",
    "board = [\"HFDFFB\", \"AJHGDH\", \"DGAGEH\"]\n",
    "\n",
    "# 출력 \n",
    "# 3\n",
    "\n",
    "visited = [[False for _ in range(c)] for _ in range(r)]\n",
    "\n",
    "alpha = set()\n",
    "ans = 0\n",
    "\n",
    "dx = [-1, 1, 0, 0] # 상, 하, 좌, 우\n",
    "dy = [0, 0, -1, 1]\n",
    "\n",
    "def in_range(x, y):\n",
    "    return 0 <= x < r and 0 <= y < c\n",
    "\n",
    "def dfs(x, y, move):\n",
    "    global ans\n",
    "    ans = max(ans, move)\n",
    "    \n",
    "    for i in range(4):\n",
    "        nx = x + dx[i]\n",
    "        ny = y + dy[i]\n",
    "        \n",
    "        if not in_range(nx, ny):\n",
    "            continue\n",
    "        \n",
    "        if not visited[nx][ny] and board[nx][ny] not in alpha:\n",
    "            visited[nx][ny] = True\n",
    "            alpha.add(board[nx][ny])\n",
    "            move += 1\n",
    "            dfs(nx, ny, move)\n",
    "\n",
    "alpha.add(board[0][0])\n",
    "dfs(0, 0, 1)\n",
    "print(ans)"
   ]
  },
  {
   "cell_type": "markdown",
   "metadata": {},
   "source": [
    "- 최종 정리"
   ]
  },
  {
   "cell_type": "code",
   "execution_count": null,
   "metadata": {},
   "outputs": [],
   "source": [
    "import sys\n",
    "\n",
    "inp = sys.stdin.readline\n",
    "\n",
    "r, c = map(int, inp().split())\n",
    "board = [list(inp().rstrip()) for _ in range(r)]\n",
    "\n",
    "visited = [[False for _ in range(c)] for _ in range(r)]\n",
    "\n",
    "alpha = set()\n",
    "ans = 0\n",
    "\n",
    "dx = [-1, 1, 0, 0] # 상, 하, 좌, 우\n",
    "dy = [0, 0, -1, 1]\n",
    "\n",
    "def in_range(x, y):\n",
    "    return 0 <= x < r and 0 <= y < c\n",
    "\n",
    "def dfs(x, y, move):\n",
    "    global ans\n",
    "    ans = max(ans, move)\n",
    "    alpha.add(board[x][y])\n",
    "    \n",
    "    for i in range(4):\n",
    "        nx = x + dx[i]\n",
    "        ny = y + dy[i]\n",
    "        \n",
    "        if not in_range(nx, ny):\n",
    "            continue\n",
    "        \n",
    "        if not visited[nx][ny] and board[nx][ny] not in alpha:\n",
    "            visited[nx][ny] = True\n",
    "            move += 1\n",
    "            dfs(nx, ny, move)\n",
    "\n",
    "\n",
    "dfs(0, 0, 1)\n",
    "print(ans)"
   ]
  },
  {
   "attachments": {
    "image.png": {
     "image/png": "[encoded data removed]"
    }
   },
   "cell_type": "markdown",
   "metadata": {},
   "source": [
    "![image.png](attachment:image.png)\n",
    "\n",
    "- 초기화가 안되서 틀린 것 같다\n",
    "- 시간초과...\n",
    "\n",
    "### 최종 통과 코드"
   ]
  },
  {
   "cell_type": "code",
   "execution_count": 5,
   "metadata": {},
   "outputs": [
    {
     "name": "stdout",
     "output_type": "stream",
     "text": [
      "3\n"
     ]
    }
   ],
   "source": [
    "import sys\n",
    "\n",
    "# inp = sys.stdin.readline\n",
    "\n",
    "# r, c = map(int, inp().split())\n",
    "# board = [list(inp().rstrip()) for _ in range(r)]\n",
    "\n",
    "r, c = 2, 4\n",
    "board = [\"CAAB\", \"ADCB\"]\n",
    "\n",
    "# 출력 \n",
    "# 3\n",
    "\n",
    "# visited = [[False for _ in range(c)] for _ in range(r)]\n",
    "\n",
    "alpha = [False] *26\n",
    "ans = 0\n",
    "\n",
    "dx = [-1, 1, 0, 0] # 상, 하, 좌, 우\n",
    "dy = [0, 0, -1, 1]\n",
    "\n",
    "def in_range(x, y):\n",
    "    return 0 <= x < r and 0 <= y < c\n",
    "\n",
    "def dfs(x, y, move):\n",
    "    global ans\n",
    "    ans = max(ans, move)\n",
    "\n",
    "    for i in range(4):\n",
    "        nx = x + dx[i]\n",
    "        ny = y + dy[i]\n",
    "        \n",
    "        if in_range(nx, ny) and not alpha[ord(board[nx][ny])-65]:\n",
    "            alpha[ord(board[nx][ny])-65] = True\n",
    "            dfs(nx, ny, move+1)\n",
    "            alpha[ord(board[nx][ny])-65] = False  # 백트래킹\n",
    "    return True\n",
    "\n",
    "alpha[ord(board[0][0])-65] = True # 시작지점\n",
    "dfs(0, 0, 1)\n",
    "print(ans)"
   ]
  },
  {
   "attachments": {
    "image-2.png": {
     "image/png": "[encoded data removed]"
    }
   },
   "cell_type": "markdown",
   "metadata": {},
   "source": [
    "![image-2.png](attachment:image-2.png)\n",
    "\n",
    "- 시간 초과 해결에 참고한 코드 [Ref](https://yerinpy73.tistory.com/48)\n",
    "- 백트래킹을 이용해 계속해서 재귀하는 형식을 배웠다.\n",
    "- 아직 헷갈려서 여러번 풀어봐야 할 문제...\n",
    "- 재귀 메모리 떄문에 pypy3로 제출했다."
   ]
  }
 ],
 "metadata": {
  "kernelspec": {
   "display_name": "Python 3",
   "language": "python",
   "name": "python3"
  },
  "language_info": {
   "codemirror_mode": {
    "name": "ipython",
    "version": 3
   },
   "file_extension": ".py",
   "mimetype": "text/x-python",
   "name": "python",
   "nbconvert_exporter": "python",
   "pygments_lexer": "ipython3",
   "version": "3.7.9"
  }
 },
 "nbformat": 4,
 "nbformat_minor": 4
}

{
 "cells": [
  {
   "cell_type": "markdown",
   "metadata": {},
   "source": [
    "# 키로거\n",
    "[백준](https://www.acmicpc.net/problem/5397)\n",
    "- 난이도 : 중(medium)\n",
    "- 문제 유형 : 스택, 구현, 그리디\n",
    "- 풀이 시간 : 40분 "
   ]
  },
  {
   "cell_type": "code",
   "execution_count": null,
   "metadata": {},
   "outputs": [
    {
     "name": "stdout",
     "output_type": "stream",
     "text": [
      "2\n",
      "<<BP<A>>Cd-\n",
      "BAPC\n"
     ]
    }
   ],
   "source": [
    "test_case = int(input())\n",
    "password = []\n",
    "cursor = []\n",
    "for _ in range(test_case):\n",
    "    left_stack=[]\n",
    "    right_stack=[]\n",
    "    data = input()\n",
    "    for i in data:\n",
    "        if i == '-':\n",
    "            if left_stack:\n",
    "                left_stack.pop()\n",
    "        elif i == '<':\n",
    "            if left_stack:\n",
    "                right_stack.append(left_stack.pop())\n",
    "        elif i == '>':\n",
    "            if right_stack:\n",
    "                left_stack.append(right_stack.pop())\n",
    "        else:\n",
    "            left_stack.append(i)\n",
    "    left_stack.extend(reversed(right_stack))\n",
    "    print(''.join(left_stack))"
   ]
  },
  {
   "cell_type": "code",
   "execution_count": null,
   "metadata": {},
   "outputs": [],
   "source": []
  }
 ],
 "metadata": {
  "kernelspec": {
   "display_name": "Python 3",
   "language": "python",
   "name": "python3"
  },
  "language_info": {
   "codemirror_mode": {
    "name": "ipython",
    "version": 3
   },
   "file_extension": ".py",
   "mimetype": "text/x-python",
   "name": "python",
   "nbconvert_exporter": "python",
   "pygments_lexer": "ipython3",
   "version": "3.7.9"
  }
 },
 "nbformat": 4,
 "nbformat_minor": 4
}

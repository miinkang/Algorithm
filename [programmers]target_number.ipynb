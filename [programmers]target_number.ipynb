{
 "cells": [
  {
   "attachments": {
    "image-4.png": {
     "image/png": "[encoded data removed]"
    }
   },
   "cell_type": "markdown",
   "metadata": {},
   "source": [
    "# 타겟 넘버\n",
    "- source : [타겟 넘버](https://programmers.co.kr/learn/courses/30/lessons/43165)\n",
    "- level : 2\n",
    "- type : BFS/DFS\n",
    "\n",
    "## 문제 설명 \n",
    "n개의 음이 아닌 정수가 있습니다. 이 수를 적절히 더하거나 빼서 타겟 넘버를 만들려고 합니다. 예를 들어 [1, 1, 1, 1, 1]로 숫자 3을 만들려면 다음 다섯 방법을 쓸 수 있습니다.\n",
    "\n",
    "```\n",
    "-1+1+1+1+1 = 3\n",
    "+1-1+1+1+1 = 3\n",
    "+1+1-1+1+1 = 3\n",
    "+1+1+1-1+1 = 3\n",
    "+1+1+1+1-1 = 3\n",
    "\n",
    "```\n",
    "사용할 수 있는 숫자가 담긴 배열 numbers, 타겟 넘버 target이 매개변수로 주어질 때 숫자를 적절히 더하고 빼서 타겟 넘버를 만드는 방법의 수를 return 하도록 solution 함수를 작성해주세요.\n",
    "\n",
    "### 제한 사항\n",
    "- 주어지는 숫자의 개수는 2개 이상 20개 이하입니다.\n",
    "- 각 숫자는 1 이상 50 이하인 자연수입니다.\n",
    "- 타겟 넘버는 1 이상 1000 이하인 자연수입니다.\n",
    "\n",
    "\n",
    "![image-4.png](attachment:image-4.png)\n",
    "\n",
    "### 입출력 예 설명 \n",
    "\n",
    "문제에 나온 예와 같습니다."
   ]
  },
  {
   "cell_type": "markdown",
   "metadata": {},
   "source": [
    "## 1 trial\n",
    "\n",
    "- "
   ]
  },
  {
   "cell_type": "code",
   "execution_count": null,
   "metadata": {},
   "outputs": [],
   "source": [
    "## pseudo code \n",
    "\n",
    "'''\n",
    "1. 스코빌 리스트 정렬 \n",
    "2. 인덱스 0, 인덱스 1인 음식 pop \n",
    "3. 인덱스 0, 인덱스 1인 음식 더해서 insert, count +=1  \n",
    "4. k 검증 \n",
    "5. 반복 \n",
    "'''\n",
    "\n",
    "## hint : 꼭 힙으로 풀기 "
   ]
  },
  {
   "cell_type": "code",
   "execution_count": 1,
   "metadata": {},
   "outputs": [],
   "source": [
    "import heapq"
   ]
  },
  {
   "cell_type": "code",
   "execution_count": 1,
   "metadata": {},
   "outputs": [],
   "source": [
    "def solution(numbers=[1, 1, 1, 1, 1], target=3):\n",
    "    answer = 0\n",
    "    temp = 0\n",
    "    for num in numbers:\n",
    "        if temp == target:\n",
    "            answer += 1\n",
    "            break\n",
    "        else:\n",
    "            if temp > target:\n",
    "                temp -= num\n",
    "            else:\n",
    "                temp += num\n",
    "    return answer"
   ]
  },
  {
   "cell_type": "code",
   "execution_count": 2,
   "metadata": {},
   "outputs": [
    {
     "data": {
      "text/plain": [
       "3"
      ]
     },
     "execution_count": 2,
     "metadata": {},
     "output_type": "execute_result"
    }
   ],
   "source": [
    "solution()"
   ]
  },
  {
   "cell_type": "markdown",
   "metadata": {},
   "source": [
    "## 2 trial = 정답 !\n",
    "- 문제가 되는 경우에 대해 if문을 이용해 break한 후 해결함 \n",
    "- vscode debug mode 최고 !"
   ]
  },
  {
   "cell_type": "code",
   "execution_count": 22,
   "metadata": {},
   "outputs": [
    {
     "name": "stdout",
     "output_type": "stream",
     "text": [
      "-1\n",
      "-1\n",
      "2\n",
      "1\n",
      "1\n",
      "1\n",
      "1\n",
      "1\n",
      "1\n"
     ]
    }
   ],
   "source": [
    "def solution(scoville, K):\n",
    "    heapq.heapify(scoville)\n",
    "\n",
    "    cnt = 0\n",
    "    min_food = heapq.heappop(scoville)\n",
    "\n",
    "    while min_food < K:\n",
    "        # 원소가 두 개인 경우 등 빈 리스트일 때 out of range에러를 막기 위해 break한다. \n",
    "        if len(scoville) == 0:\n",
    "            break\n",
    "        temp_1 = heapq.heappop(scoville)\n",
    "        new = min_food + (temp_1 *2)\n",
    "        heapq.heappush(scoville, new)\n",
    "\n",
    "        cnt += 1\n",
    "        min_food = heapq.heappop(scoville)\n",
    "        \n",
    "    if min_food >= K:\n",
    "        return cnt\n",
    "    \n",
    "    else:\n",
    "        return -1\n",
    "\n",
    "# vscode에서 debug모드로 풀고 여러 테스트 케이스 실험용 코드\n",
    "# 테스트 케이스 참고 : https://programmers.co.kr/questions/18150\n",
    "if __name__ == '__main__':\n",
    "    s = [[0, 0], [1,2], [1,2,3], [7, 1], [3, 4], [4, 4], [3, 3], [1,5], [2,3,7,10,15]]\n",
    "    k = 7\n",
    "    for i in s:\n",
    "        print(solution(i, k))"
   ]
  }
 ],
 "metadata": {
  "kernelspec": {
   "display_name": "Python 3",
   "language": "python",
   "name": "python3"
  },
  "language_info": {
   "codemirror_mode": {
    "name": "ipython",
    "version": 3
   },
   "file_extension": ".py",
   "mimetype": "text/x-python",
   "name": "python",
   "nbconvert_exporter": "python",
   "pygments_lexer": "ipython3",
   "version": "3.7.9"
  }
 },
 "nbformat": 4,
 "nbformat_minor": 4
}

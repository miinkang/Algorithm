{
 "cells": [
  {
   "attachments": {
    "image.png": {
     "image/png": "[encoded data removed]"
    }
   },
   "cell_type": "markdown",
   "metadata": {},
   "source": [
    "# 가장 큰 수\n",
    "- source : [programmers 가장 큰 수](https://programmers.co.kr/learn/courses/30/lessons/42746)\n",
    "- level : 2\n",
    "- type : 정렬\n",
    "\n",
    "## 문제 설명 \n",
    "0 또는 양의 정수가 주어졌을 때, 정수를 이어 붙여 만들 수 있는 가장 큰 수를 알아내 주세요.\n",
    "\n",
    "예를 들어, 주어진 정수가 \\[6, 10, 2\\]라면 \\[6102, 6210, 1062, 1026, 2610, 2106\\]를 만들 수 있고, 이중 가장 큰 수는 6210입니다.\n",
    "\n",
    "0 또는 양의 정수가 담긴 배열 numbers가 매개변수로 주어질 때, 순서를 재배치하여 만들 수 있는 가장 큰 수를 문자열로 바꾸어 return 하도록 solution 함수를 작성해주세요.\n",
    "### 제한 사항\n",
    "- numbers의 길이는 1 이상 100,000 이하입니다.\n",
    "- numbers의 원소는 0 이상 1,000 이하입니다.\n",
    "- 정답이 너무 클 수 있으니 문자열로 바꾸어 return 합니다.\n",
    "\n",
    "![image.png](attachment:image.png)"
   ]
  },
  {
   "cell_type": "markdown",
   "metadata": {},
   "source": [
    "## 1 trial"
   ]
  },
  {
   "cell_type": "code",
   "execution_count": null,
   "metadata": {},
   "outputs": [],
   "source": [
    "from itertools import permutations\n",
    "\n",
    "def solution(numbers):\n",
    "    int_num = []\n",
    "    per_num = list(permutations(numbers))\n",
    "    for tup_num in per_num:\n",
    "        temp = str()\n",
    "        for num in tup_num:\n",
    "            temp += str(num)\n",
    "        int_num.append(int(temp))\n",
    "        \n",
    "#     int_num = [str(i[j]) for i in per_num for j in i]\n",
    "        \n",
    "        \n",
    "        \n",
    "    return str(max(int_num))"
   ]
  },
  {
   "cell_type": "markdown",
   "metadata": {},
   "source": [
    "- 시간초과 \n",
    "- permutations는 모든 조합을 가져오기 때문에 시간이 오래 걸린다.\n",
    "\n",
    "## 2 trial\n",
    "- 솔루션 참고\n",
    "- **문자열도 ascii를 이용해 정렬할 수 있다.**"
   ]
  },
  {
   "cell_type": "code",
   "execution_count": 13,
   "metadata": {},
   "outputs": [],
   "source": [
    "from itertools import permutations\n",
    "\n",
    "def solution(numbers):\n",
    "    num_str = list(map(str, numbers)) # iterable한 객체를 넣어서 모든 원소에 함수를 적용할 수 있다.\n",
    "    num_str.sort(key = lambda x : x*3, reverse=True) # 내림차순으로 정렬해 최대값을 만든다.\n",
    "\n",
    "    return str(int(''.join(num_str)))"
   ]
  }
 ],
 "metadata": {
  "kernelspec": {
   "display_name": "Python 3",
   "language": "python",
   "name": "python3"
  },
  "language_info": {
   "codemirror_mode": {
    "name": "ipython",
    "version": 3
   },
   "file_extension": ".py",
   "mimetype": "text/x-python",
   "name": "python",
   "nbconvert_exporter": "python",
   "pygments_lexer": "ipython3",
   "version": "3.7.9"
  }
 },
 "nbformat": 4,
 "nbformat_minor": 4
}

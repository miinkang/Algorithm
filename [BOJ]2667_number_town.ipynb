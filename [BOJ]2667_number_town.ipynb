{
 "cells": [
  {
   "attachments": {
    "image-2.png": {
     "image/png": "[encoded data removed]"
    },
    "image-3.png": {
     "image/png": "[encoded data removed]"
    }
   },
   "cell_type": "markdown",
   "metadata": {},
   "source": [
    "# 단지번호붙이기\n",
    "- source : [백준 2667](https://www.acmicpc.net/problem/2667)\n",
    "- 난이도 : 실버 I\n",
    "- 분류 : 그래프 이론, 그래프 탐색, 너비 우선 탐색, 깊이 우선 탐색\n",
    "\n",
    "## 문제\n",
    "- <그림 1>과 같이 정사각형 모양의 지도가 있다. 1은 집이 있는 곳을, 0은 집이 없는 곳을 나타낸다. 철수는 이 지도를 가지고 연결된 집의 모임인 단지를 정의하고, 단지에 번호를 붙이려 한다. 여기서 연결되었다는 것은 어떤 집이 좌우, 혹은 아래위로 다른 집이 있는 경우를 말한다. 대각선상에 집이 있는 경우는 연결된 것이 아니다. <그림 2>는 <그림 1>을 단지별로 번호를 붙인 것이다. 지도를 입력하여 단지수를 출력하고, 각 단지에 속하는 집의 수를 오름차순으로 정렬하여 출력하는 프로그램을 작성하시오.\n",
    "\n",
    "![image-2.png](attachment:image-2.png)\n",
    "    \n",
    "## 입력\n",
    "- 첫 번째 줄에는 지도의 크기 N(정사각형이므로 가로와 세로의 크기는 같으며 5≤N≤25)이 입력되고, 그 다음 N줄에는 각각 N개의 자료(0혹은 1)가 입력된다.\n",
    "\n",
    "## 출력\n",
    "- 첫 번째 줄에는 총 단지수를 출력하시오. 그리고 각 단지내 집의 수를 오름차순으로 정렬하여 한 줄에 하나씩 출력하시오.\n",
    "\n",
    "![image-3.png](attachment:image-3.png)\n",
    "\n"
   ]
  },
  {
   "cell_type": "code",
   "execution_count": 11,
   "metadata": {},
   "outputs": [],
   "source": [
    "\"\"\" \n",
    "출력\n",
    "3 # 총 단지의 수\n",
    "7 # 각 단지별 집의 수(오름차순)\n",
    "8\n",
    "9\n",
    "\"\"\"\n",
    "\n",
    "n = 7\n",
    "map = [[0,1,1,0,1,0,0],\n",
    "[0,1,1,0,1,0,1],\n",
    "[1,1,1,0,1,0,1],\n",
    "[0,0,0,0,1,1,1],\n",
    "[0,1,0,0,0,0,0],\n",
    "[0,1,1,1,1,1,0],\n",
    "[0,1,1,1,0,0,0]\n",
    "]"
   ]
  },
  {
   "cell_type": "code",
   "execution_count": 3,
   "metadata": {},
   "outputs": [
    {
     "data": {
      "text/plain": [
       "[[0, 0, 0, 0, 0, 0, 0],\n",
       " [0, 0, 0, 0, 0, 0, 0],\n",
       " [0, 0, 0, 0, 0, 0, 0],\n",
       " [0, 0, 0, 0, 0, 0, 0],\n",
       " [0, 0, 0, 0, 0, 0, 0],\n",
       " [0, 0, 0, 0, 0, 0, 0],\n",
       " [0, 0, 0, 0, 0, 0, 0]]"
      ]
     },
     "execution_count": 3,
     "metadata": {},
     "output_type": "execute_result"
    }
   ],
   "source": [
    "visited = [[0 for _ in range(n)] for _ in range(n)]\n",
    "\n",
    "visited"
   ]
  },
  {
   "cell_type": "code",
   "execution_count": null,
   "metadata": {},
   "outputs": [],
   "source": [
    "dx = [-1, 1, 0, 0] # 상, 하, 좌, 우\n",
    "dy = [0, 0, -1, 1]\n",
    "\n",
    "def count_town(visited):\n",
    "    # visited를 돌면서 단지가 몇 개인지 체크한다.\n",
    "    # 각 단지별 집의 개수를 센다.\n",
    "    # 정답 반환\n",
    "    return answer\n",
    "\n",
    "def in_range(x, y):\n",
    "    return 0 <= x <= n-1 and 0 <= y <= n-1\n",
    "\n",
    "x, y = 0, 0\n",
    "for _ in range(n-1*n-1):\n",
    "    if x == n-1 and y == n-1:\n",
    "        answer = count_town(visited)\n",
    "        print(answer)\n",
    "        break\n",
    "        \n",
    "    for i in range(4):\n",
    "        nx = x + dx[i]\n",
    "        ny = y + dy[i]\n",
    "        \n",
    "        if map[x][y] == 1:\n",
    "            if in_range(nx, ny):\n",
    "                if "
   ]
  },
  {
   "cell_type": "markdown",
   "metadata": {},
   "source": [
    "- 위 방법은 dfs가 아니기 때문에...짜다가 dfs로 다시 풀어보기로 결정했다.\n",
    "- [Ref](https://hongcoding.tistory.com/71)"
   ]
  },
  {
   "cell_type": "code",
   "execution_count": 12,
   "metadata": {},
   "outputs": [
    {
     "name": "stdout",
     "output_type": "stream",
     "text": [
      "3\n",
      "7\n",
      "8\n",
      "9\n"
     ]
    }
   ],
   "source": [
    "n = 7\n",
    "graph = [[0,1,1,0,1,0,0],\n",
    "[0,1,1,0,1,0,1],\n",
    "[1,1,1,0,1,0,1],\n",
    "[0,0,0,0,1,1,1],\n",
    "[0,1,0,0,0,0,0],\n",
    "[0,1,1,1,1,1,0],\n",
    "[0,1,1,1,0,0,0]\n",
    "]\n",
    "\n",
    "\"\"\"\n",
    "출력\n",
    "3 # 총 단지의 수\n",
    "7 # 각 단지별 집의 수(오름차순)\n",
    "8\n",
    "9\n",
    "\"\"\"\n",
    "\n",
    "\n",
    "dx = [-1, 1, 0, 0] # 상, 하, 좌, 우\n",
    "dy = [0, 0, -1, 1]\n",
    "\n",
    "def in_range(x, y):\n",
    "    return 0 <= x <= n-1 and 0 <= y <= n-1\n",
    "\n",
    "def dfs(x, y):\n",
    "    if not in_range(x, y):\n",
    "        return False\n",
    "    \n",
    "    if graph[x][y] == 1: # 집이 있으면\n",
    "        global cnt\n",
    "        cnt += 1         # 집의 수 세기\n",
    "        graph[x][y] = 0  # 다시 탐색하지 않도록 0으로 바꾼다.\n",
    "        \n",
    "        for i in range(4):\n",
    "            nx = x + dx[i]\n",
    "            ny = y + dy[i]\n",
    "            dfs(nx, ny)  # 이동후 재귀\n",
    "        return True\n",
    "    return False\n",
    "\n",
    "cnt = 0\n",
    "cnts = []\n",
    "\n",
    "for i in range(n):\n",
    "    for j in range(n):\n",
    "        if dfs(i, j):\n",
    "            cnts.append(cnt)\n",
    "            cnt = 0      # 한 단지의 탐색이 끝나면 다시 cnt를 초기화\n",
    "\n",
    "            \n",
    "cnts.sort()      # 오름차순 정렬\n",
    "print(len(cnts))\n",
    "for i in range(len(cnts)):\n",
    "    print(cnts[i])"
   ]
  },
  {
   "cell_type": "markdown",
   "metadata": {},
   "source": [
    "- 최종 정리"
   ]
  },
  {
   "cell_type": "code",
   "execution_count": null,
   "metadata": {},
   "outputs": [],
   "source": [
    "import sys\n",
    "\n",
    "n = int(sys.stdin.readline())\n",
    "\n",
    "graph = []\n",
    "for _ in range(n):\n",
    "    graph.append(list(map(int, sys.stdin.readline().rstrip())))\n",
    "\n",
    "dx = [-1, 1, 0, 0] # 상, 하, 좌, 우\n",
    "dy = [0, 0, -1, 1]\n",
    "\n",
    "def in_range(x, y):\n",
    "    return 0 <= x <= n-1 and 0 <= y <= n-1\n",
    "\n",
    "def dfs(x, y):\n",
    "    if not in_range(x, y):\n",
    "        return False\n",
    "    \n",
    "    if graph[x][y] == 1: # 집이 있으면\n",
    "        global cnt\n",
    "        cnt += 1         # 집의 수 세기\n",
    "        graph[x][y] = 0  # 다시 탐색하지 않도록 0으로 바꾼다.\n",
    "        \n",
    "        for i in range(4):\n",
    "            nx = x + dx[i]\n",
    "            ny = y + dy[i]\n",
    "            dfs(nx, ny)  # 이동후 재귀\n",
    "            \n",
    "        return True\n",
    "    return False\n",
    "\n",
    "cnt = 0\n",
    "cnts = []\n",
    "result = 0\n",
    "for i in range(n):\n",
    "    for j in range(n):\n",
    "        if dfs(i, j):\n",
    "            cnts.append(cnt)\n",
    "            result += 1\n",
    "            cnt = 0      # 한 단지의 탐색이 끝나면 다시 cnt를 초기화\n",
    "\n",
    "            \n",
    "cnts.sort()      # 오름차순 정렬\n",
    "# print(len(cnts))\n",
    "print(result)\n",
    "for i in range(len(cnts)):\n",
    "    print(cnts[i])"
   ]
  },
  {
   "attachments": {
    "image-2.png": {
     "image/png": "[encoded data removed]"
    }
   },
   "cell_type": "markdown",
   "metadata": {},
   "source": [
    "![image-2.png](attachment:image-2.png)\n",
    "\n",
    "- sys로 입력 받는 것보다 input()쓰는 게 더 빠르다. (72ms)\n",
    "- rstrip() 을 안해서 계속 인덱스에러났다...출력 잘 확인하기 "
   ]
  },
  {
   "cell_type": "markdown",
   "metadata": {},
   "source": [
    "### 다시 풀어보기"
   ]
  },
  {
   "cell_type": "code",
   "execution_count": 12,
   "metadata": {},
   "outputs": [
    {
     "name": "stdout",
     "output_type": "stream",
     "text": [
      "49\n",
      "[0, 8, 8, 8, 17, 17, 17, 17, 17, 17, 17, 17, 17, 17, 17, 17, 17, 17, 17, 17, 17, 17, 17, 17, 17, 17, 17, 17, 17, 27, 27, 27, 27, 27, 27, 27, 27, 27, 27, 27, 27, 27, 27, 27, 27, 27, 27, 27, 27]\n"
     ]
    }
   ],
   "source": [
    "N = 7\n",
    "graph = [[0,1,1,0,1,0,0],\n",
    "[0,1,1,0,1,0,1],\n",
    "[1,1,1,0,1,0,1],\n",
    "[0,0,0,0,1,1,1],\n",
    "[0,1,0,0,0,0,0],\n",
    "[0,1,1,1,1,1,0],\n",
    "[0,1,1,1,0,0,0]\n",
    "]\n",
    "\n",
    "# visited = [[False]*N for _ in range(N)]\n",
    "\n",
    "\n",
    "def in_range(x, y):\n",
    "    return 0 <= x < N and 0 <= y < N\n",
    "\n",
    "\n",
    "def dfs(x, y):\n",
    "    dx = [1, -1, 0, 0] # 좌, 우, 상, 하\n",
    "    dy = [0, 0, -1, 1]\n",
    "    \n",
    "    if not in_range(x, y):\n",
    "        return False\n",
    "    \n",
    "    if graph[x][y] == 1:\n",
    "        global cnt\n",
    "        cnt += 1\n",
    "        graph[x][y] = 0\n",
    "        \n",
    "        for i in range(4):\n",
    "            nx = x + dx[i]\n",
    "            ny = y + dy[i]\n",
    "            \n",
    "            dfs(nx, ny)\n",
    "        \n",
    "        return True\n",
    "    return False\n",
    "    \n",
    "\n",
    "cnt = 0\n",
    "cnts = []\n",
    "answer = 0\n",
    "\n",
    "for i in range(N):\n",
    "    for j in range(N):\n",
    "        if dfs(i, j):\n",
    "            cnt += 1\n",
    "        answer += 1\n",
    "        cnts.append(cnt)\n",
    "        \n",
    "print(answer)\n",
    "print(cnts)"
   ]
  }
 ],
 "metadata": {
  "kernelspec": {
   "display_name": "Python 3",
   "language": "python",
   "name": "python3"
  },
  "language_info": {
   "codemirror_mode": {
    "name": "ipython",
    "version": 3
   },
   "file_extension": ".py",
   "mimetype": "text/x-python",
   "name": "python",
   "nbconvert_exporter": "python",
   "pygments_lexer": "ipython3",
   "version": "3.7.9"
  }
 },
 "nbformat": 4,
 "nbformat_minor": 4
}

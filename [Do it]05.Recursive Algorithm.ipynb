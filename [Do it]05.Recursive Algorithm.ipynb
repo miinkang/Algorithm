{
 "cells": [
  {
   "cell_type": "markdown",
   "id": "taken-shark",
   "metadata": {},
   "source": [
    "## 재귀함수의 대표적인 예인 팩토리얼를 함수로 구현하기"
   ]
  },
  {
   "cell_type": "code",
   "execution_count": 1,
   "id": "olive-knitting",
   "metadata": {},
   "outputs": [
    {
     "name": "stdout",
     "output_type": "stream",
     "text": [
      "출력할 팩토리얼 값을 입력하세요. :10\n",
      "3628800\n"
     ]
    }
   ],
   "source": [
    "def factorial(n: int) -> int:\n",
    "    if n >0:\n",
    "        return n* factorial(n-1)\n",
    "    else:\n",
    "        return 1   # 1!=1 이기 때문에 \n",
    "\n",
    "if __name__ == '__main__':\n",
    "    n = int(input('출력할 팩토리얼 값을 입력하세요. :'))\n",
    "    print(factorial(n))"
   ]
  },
  {
   "cell_type": "markdown",
   "id": "aerial-florida",
   "metadata": {},
   "source": [
    "## 유클리드 호제법 구현\n",
    "두 정숫값의 최대 공약수 구하기 "
   ]
  },
  {
   "cell_type": "code",
   "execution_count": 2,
   "id": "major-springfield",
   "metadata": {},
   "outputs": [
    {
     "name": "stdout",
     "output_type": "stream",
     "text": [
      "두 정숫값의 최대 공약수를 구합니다.\n",
      "첫 번째 정숫값 입력:10\n",
      "두 번째 정숫값 입력:21\n",
      "두 정숫값의 최대 공약수는 1입니다\n"
     ]
    }
   ],
   "source": [
    "def gcd(x: int, y: int)-> int:\n",
    "    if y ==0:\n",
    "        return x \n",
    "    else:\n",
    "        return gcd(y, x%y)\n",
    "if __name__=='__main__':\n",
    "    print('두 정숫값의 최대 공약수를 구합니다.')\n",
    "    x = int(input('첫 번째 정숫값 입력:'))\n",
    "    y = int(input('두 번째 정숫값 입력:'))\n",
    "    print(f'두 정숫값의 최대 공약수는 {gcd(x, y)}입니다')"
   ]
  },
  {
   "cell_type": "markdown",
   "id": "fuzzy-mother",
   "metadata": {},
   "source": [
    "- 팩토리얼, 유클리드 호제법 모두 math모듈에서 제공한다.  \n",
    "\n",
    "## 하노이의 탑 구현"
   ]
  },
  {
   "cell_type": "code",
   "execution_count": 3,
   "id": "charged-orchestra",
   "metadata": {},
   "outputs": [
    {
     "name": "stdout",
     "output_type": "stream",
     "text": [
      "하노이의 탑을 구현합니다.\n",
      "원반의 개수를 입력하세요. :2\n",
      "원반 [1]를 1기둥에서 2기둥으로 옮깁니다.\n",
      "원반 [2]를 1기둥에서 3기둥으로 옮깁니다.\n",
      "원반 [1]를 2기둥에서 3기둥으로 옮깁니다.\n"
     ]
    }
   ],
   "source": [
    "def move(no: int, x: int, y: int) -> None:\n",
    "    if no>1:\n",
    "        move(no-1, x, 6-x-y)    # 기둥 번호가 1,2,3 이므로 합인 6에서 인수를 빼서 다음 위치를 구한다. \n",
    "    print(f'원반 [{no}]를 {x}기둥에서 {y}기둥으로 옮깁니다.')\n",
    "    \n",
    "    if no>1:\n",
    "        move(no-1, 6-x-y, y)\n",
    "        \n",
    "print('하노이의 탑을 구현합니다.')\n",
    "n = int(input('원반의 개수를 입력하세요. :'))\n",
    "\n",
    "move(n, 1, 3)"
   ]
  }
 ],
 "metadata": {
  "kernelspec": {
   "display_name": "Python 3",
   "language": "python",
   "name": "python3"
  },
  "language_info": {
   "codemirror_mode": {
    "name": "ipython",
    "version": 3
   },
   "file_extension": ".py",
   "mimetype": "text/x-python",
   "name": "python",
   "nbconvert_exporter": "python",
   "pygments_lexer": "ipython3",
   "version": "3.7.9"
  }
 },
 "nbformat": 4,
 "nbformat_minor": 5
}

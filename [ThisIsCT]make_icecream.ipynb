{
 "cells": [
  {
   "cell_type": "markdown",
   "id": "flush-engagement",
   "metadata": {},
   "source": [
    "# 음료수 얼려먹기 \n",
    "- source : \\[이것이코딩테스트다(파이썬)\\] chapter03.그리디 p.99\n",
    "- 난이도 ★☆☆  \n",
    "\n",
    "어떠한 수 N이 1이 될 때까지 다음의 두 과정 중 하나를 반복적으로 선택하여 수행하려고 한다. 단, 두 번째 연산은 N이 K로 나누어떨어질 때만 선택할 수 있다.\n",
    "1. N에서 1을 뺀다.\n",
    "2. N을 K로 나눈다.   \n",
    "N과 K가 주어질 때 N이 1이 될 때까지 1번 혹은 2번의 과정을 수행해야 하는 최소 횟수를 구하는 프로그램을 작성하시오.\n",
    "\n",
    "## 입력 조건 \n",
    "첫째 줄에 N(2 <= N <= 100,000), K(2 <= K <= 100,000)가 공백으로 구분되며 각각 자연수로 주어진다. 이때 입력으로 주어지는 N은 항상 K보다 크거나 같다.\n",
    "\n",
    "## 출력 조건\n",
    "첫째 줄에 N이 1이 될 때까지 1번 혹은 2번의 과정을 수행해야 하는 횟수의 최솟값을 출력한다.\n",
    "\n",
    "## 입출력 예시 \n",
    "- 입력 예시 : 25 5 \n",
    "- 출력 예시 : 2 "
   ]
  },
  {
   "cell_type": "code",
   "execution_count": 1,
   "id": "searching-fruit",
   "metadata": {},
   "outputs": [],
   "source": [
    "tray = [[0, 0, 1, 1, 0],\n",
    " [0, 0, 0, 1, 1],\n",
    " [1, 1, 1, 1, 1],\n",
    " [0, 0, 0, 0, 0]\n",
    "]"
   ]
  },
  {
   "cell_type": "code",
   "execution_count": 3,
   "id": "considered-truth",
   "metadata": {},
   "outputs": [],
   "source": [
    "def bfs(graph, start, visited):\n",
    "    queue = deque([start])\n",
    "    visited[start] = True\n",
    "    while queue:\n",
    "        v = queue.popleft()\n",
    "        print(v, end=' ')\n",
    "        for i in graph[v]:\n",
    "            if not visited[i]:\n",
    "                queue.append(i)\n",
    "                visited[i] = True\n",
    "                "
   ]
  },
  {
   "cell_type": "code",
   "execution_count": 4,
   "id": "induced-block",
   "metadata": {
    "scrolled": true
   },
   "outputs": [
    {
     "data": {
      "text/plain": [
       "0"
      ]
     },
     "execution_count": 4,
     "metadata": {},
     "output_type": "execute_result"
    }
   ],
   "source": [
    "tray[0][0]"
   ]
  },
  {
   "cell_type": "code",
   "execution_count": 7,
   "id": "instant-attitude",
   "metadata": {},
   "outputs": [
    {
     "data": {
      "text/plain": [
       "[[False, False, False, False, False],\n",
       " [False, False, False, False, False],\n",
       " [False, False, False, False, False],\n",
       " [False, False, False, False, False]]"
      ]
     },
     "execution_count": 7,
     "metadata": {},
     "output_type": "execute_result"
    }
   ],
   "source": [
    "visited = [[False] * 5] *4\n",
    "visited"
   ]
  },
  {
   "cell_type": "code",
   "execution_count": 5,
   "id": "polar-converter",
   "metadata": {},
   "outputs": [
    {
     "ename": "SyntaxError",
     "evalue": "unexpected EOF while parsing (<ipython-input-5-adaac51094bd>, line 2)",
     "output_type": "error",
     "traceback": [
      "\u001b[0;36m  File \u001b[0;32m\"<ipython-input-5-adaac51094bd>\"\u001b[0;36m, line \u001b[0;32m2\u001b[0m\n\u001b[0;31m    for i in range(len(n)-1):\u001b[0m\n\u001b[0m                             ^\u001b[0m\n\u001b[0;31mSyntaxError\u001b[0m\u001b[0;31m:\u001b[0m unexpected EOF while parsing\n"
     ]
    }
   ],
   "source": [
    "n, m = 4, 5\n",
    "visited = [[False] * m] * n\n",
    "cnt = 0\n",
    "for i in range(len(n)-1):\n",
    "    for j in range(len(m)-1):\n",
    "        if tray[i][j] == 0:\n",
    "            cnt += 1 \n",
    "            \n",
    "            "
   ]
  },
  {
   "cell_type": "code",
   "execution_count": null,
   "id": "rocky-syntax",
   "metadata": {},
   "outputs": [],
   "source": [
    "bfs(tray, a)"
   ]
  },
  {
   "cell_type": "code",
   "execution_count": null,
   "id": "native-builder",
   "metadata": {},
   "outputs": [],
   "source": [
    "n, m = map(int, input().split())\n",
    "tray = []\n",
    "for i in range(len(n)-1):\n",
    "    tray.append(list(map(int, input())))\n",
    "    "
   ]
  },
  {
   "cell_type": "markdown",
   "id": "collected-elder",
   "metadata": {},
   "source": [
    "## 책의 해설코드"
   ]
  },
  {
   "cell_type": "code",
   "execution_count": 2,
   "id": "classified-peoples",
   "metadata": {},
   "outputs": [
    {
     "name": "stdout",
     "output_type": "stream",
     "text": [
      "17 4\n",
      "3\n"
     ]
    }
   ],
   "source": [
    "n, k = map(int, input().split())\n",
    "\n",
    "result = 0\n",
    "\n",
    "while True:\n",
    "    target = (n//k)*k  # k로 나눈 몫에 k를 곱한다. 나머지를 없애버리기 \n",
    "    result += (n - target) # 나머지 == 뺄셈 계산 횟수 \n",
    "    n = target \n",
    "    \n",
    "    if n < k:  # k보다 n이 작으면 나눌 수 없으니까 break \n",
    "        break \n",
    "    \n",
    "    result += 1 \n",
    "    n //= k \n",
    "\n",
    "result += (n -1)\n",
    "print(result)"
   ]
  }
 ],
 "metadata": {
  "kernelspec": {
   "display_name": "Python 3",
   "language": "python",
   "name": "python3"
  },
  "language_info": {
   "codemirror_mode": {
    "name": "ipython",
    "version": 3
   },
   "file_extension": ".py",
   "mimetype": "text/x-python",
   "name": "python",
   "nbconvert_exporter": "python",
   "pygments_lexer": "ipython3",
   "version": "3.7.9"
  }
 },
 "nbformat": 4,
 "nbformat_minor": 5
}

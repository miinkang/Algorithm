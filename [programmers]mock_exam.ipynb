{
 "cells": [
  {
   "cell_type": "markdown",
   "metadata": {},
   "source": [
    "# 모의고사\n",
    "- source : [programmers](https://programmers.co.kr/learn/courses/30/lessons/42840)\n",
    "- level : 1\n",
    "- type : 완전탐색(brute-force)\n",
    "\n",
    "## 문제 설명 \n",
    "수포자는 수학을 포기한 사람의 준말입니다. 수포자 삼인방은 모의고사에 수학 문제를 전부 찍으려 합니다. 수포자는 1번 문제부터 마지막 문제까지 다음과 같이 찍습니다.\n",
    "\n",
    "1번 수포자가 찍는 방식: 1, 2, 3, 4, 5, 1, 2, 3, 4, 5, ...\n",
    "2번 수포자가 찍는 방식: 2, 1, 2, 3, 2, 4, 2, 5, 2, 1, 2, 3, 2, 4, 2, 5, ...\n",
    "3번 수포자가 찍는 방식: 3, 3, 1, 1, 2, 2, 4, 4, 5, 5, 3, 3, 1, 1, 2, 2, 4, 4, 5, 5, ...\n",
    "\n",
    "1번 문제부터 마지막 문제까지의 정답이 순서대로 들은 배열 answers가 주어졌을 때, 가장 많은 문제를 맞힌 사람이 누구인지 배열에 담아 return 하도록 solution 함수를 작성해주세요.\n",
    "### 제한 사항\n",
    "- 시험은 최대 10,000 문제로 구성되어있습니다.\n",
    "- 문제의 정답은 1, 2, 3, 4, 5중 하나입니다.\n",
    "- 가장 높은 점수를 받은 사람이 여럿일 경우, return하는 값을 오름차순 정렬해주세요."
   ]
  },
  {
   "cell_type": "code",
   "execution_count": 22,
   "metadata": {},
   "outputs": [],
   "source": [
    "def solution(answers):\n",
    "    answer=[]\n",
    "    # 세 학생이 정답을 맞춘 횟수를 넣을 리스트를 생성한다.\n",
    "    count = [0,0,0]\n",
    "    # 세 학생의 패턴\n",
    "    no_1 = [1,2,3,4,5] \n",
    "    no_2 = [2, 1, 2, 3, 2, 4, 2, 5]\n",
    "    no_3 = [3, 3, 1, 1, 2, 2, 4, 4, 5, 5] \n",
    "    \n",
    "    \n",
    "    for idx, ans in enumerate(answers):\n",
    "        # 패턴의 길이가 각각 다르기때문에 나머지를 인덱스로 사용해 비교한다. \n",
    "        if ans == no_1[idx % len(no_1)]:\n",
    "            count[0] += 1\n",
    "        if ans == no_2[idx % len(no_2)]:\n",
    "            count[1] += 1\n",
    "        if ans == no_3[idx % len(no_3)]:\n",
    "            count[2] += 1\n",
    "            \n",
    "    # 제일 많이 맞춘 횟수(최댓값)를 변수로 생성한다.        \n",
    "    high = max(count)\n",
    "    # 최댓값과 비교해 학생 번호를 반환값에 넣는다. \n",
    "    for i in range(len(count)):\n",
    "        if high == count[i]:\n",
    "            answer.append(i+1)\n",
    "    \n",
    "    \n",
    "    return answer"
   ]
  }
 ],
 "metadata": {
  "kernelspec": {
   "display_name": "Python 3",
   "language": "python",
   "name": "python3"
  },
  "language_info": {
   "codemirror_mode": {
    "name": "ipython",
    "version": 3
   },
   "file_extension": ".py",
   "mimetype": "text/x-python",
   "name": "python",
   "nbconvert_exporter": "python",
   "pygments_lexer": "ipython3",
   "version": "3.7.9"
  }
 },
 "nbformat": 4,
 "nbformat_minor": 4
}

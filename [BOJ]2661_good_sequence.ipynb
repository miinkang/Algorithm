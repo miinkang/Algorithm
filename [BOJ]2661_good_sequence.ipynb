{
 "cells": [
  {
   "attachments": {
    "image-2.png": {
     "image/png": "[encoded data removed]"
    }
   },
   "cell_type": "markdown",
   "metadata": {},
   "source": [
    "# 좋은수열\n",
    "- source : [백준 2661](https://www.acmicpc.net/problem/2661)\n",
    "- 난이도 : 골드 IV\n",
    "- 분류 : 백트래킹\n",
    "\n",
    "## 문제\n",
    "- 숫자 1, 2, 3으로만 이루어지는 수열이 있다. 임의의 길이의 인접한 두 개의 부분 수열이 동일한 것이 있으면, 그 수열을 나쁜 수열이라고 부른다. 그렇지 않은 수열은 좋은 수열이다.\n",
    "\n",
    "- 다음은 나쁜 수열의 예이다.\n",
    "\n",
    "```\n",
    "33\n",
    "32121323\n",
    "123123213\n",
    "```\n",
    "\n",
    "- 다음은 좋은 수열의 예이다.\n",
    "\n",
    "```\n",
    "2\n",
    "32\n",
    "32123\n",
    "1232123\n",
    "```\n",
    "\n",
    "- 길이가 N인 좋은 수열들을 N자리의 정수로 보아 그중 가장 작은 수를 나타내는 수열을 구하는 프로그램을 작성하라. 예를 들면, 1213121과 2123212는 모두 좋은 수열이지만 그 중에서 작은 수를 나타내는 수열은 1213121이다.\n",
    "    \n",
    "## 입력\n",
    "- 입력은 숫자 N하나로 이루어진다. N은 1 이상 80 이하이다.\n",
    "\n",
    "\n",
    "## 출력\n",
    "- 첫 번째 줄에 1, 2, 3으로만 이루어져 있는 길이가 N인 좋은 수열들 중에서 가장 작은 수를 나타내는 수열만 출력한다. 수열을 이루는 1, 2, 3들 사이에는 빈칸을 두지 않는다.\n",
    "\n",
    "![image-2.png](attachment:image-2.png)\n",
    "\n"
   ]
  },
  {
   "cell_type": "markdown",
   "metadata": {},
   "source": [
    "1. 1, 2, 3으로 이루어진 n길이의 수열이어야 한다.\n",
    "2. 좋은 수열이어야 한다.\n",
    "3. 가장 작은 수여야한다.\n",
    "\n",
    "- 1, 2, 3 순서대로 구성되면 가장 작은 수를 찾을 수 있다. "
   ]
  },
  {
   "cell_type": "code",
   "execution_count": 15,
   "metadata": {
    "scrolled": true
   },
   "outputs": [],
   "source": [
    "import sys\n",
    "sys.setrecursionlimit(1000000000)\n",
    "\n",
    "def check_good(seq):\n",
    "    length = len(seq)\n",
    "    for idx in range(1, length // 2 + 1):  # 존재할 수 있는 가장 긴 두 수열의 최대 길이 = Length//2\n",
    "        if seq[-idx:] == seq[-(idx*2):-idx]:\n",
    "            return False \n",
    "    return True\n",
    "\n",
    "def backtracking(seq):\n",
    "    if len(seq) == N:\n",
    "        print(seq)\n",
    "        exit()        # 꼭 종료시켜야 한다. \n",
    "#         return seq  # 재귀가 끝나지 않음! \n",
    "    for i in '123':\n",
    "        if check_good(seq + str(i)):\n",
    "            backtracking(seq + str(i))\n",
    "        \n",
    "    return"
   ]
  },
  {
   "cell_type": "code",
   "execution_count": null,
   "metadata": {},
   "outputs": [
    {
     "name": "stdout",
     "output_type": "stream",
     "text": [
      "1213121\n",
      "1213123\n"
     ]
    }
   ],
   "source": [
    "N = 7\n",
    "answer = backtracking('1')\n",
    "print(answer)"
   ]
  },
  {
   "attachments": {
    "image-3.png": {
     "image/png": "[encoded data removed]"
    }
   },
   "cell_type": "markdown",
   "metadata": {},
   "source": [
    "![image-3.png](attachment:image-3.png)\n",
    "\n",
    "- 재귀함수 종료하는 방법이 중요한 문제"
   ]
  }
 ],
 "metadata": {
  "kernelspec": {
   "display_name": "Python 3",
   "language": "python",
   "name": "python3"
  },
  "language_info": {
   "codemirror_mode": {
    "name": "ipython",
    "version": 3
   },
   "file_extension": ".py",
   "mimetype": "text/x-python",
   "name": "python",
   "nbconvert_exporter": "python",
   "pygments_lexer": "ipython3",
   "version": "3.7.9"
  }
 },
 "nbformat": 4,
 "nbformat_minor": 4
}

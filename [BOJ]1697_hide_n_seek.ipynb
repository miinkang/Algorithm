{
 "cells": [
  {
   "attachments": {
    "image-5.png": {
     "image/png": "[encoded data removed]"
    }
   },
   "cell_type": "markdown",
   "metadata": {},
   "source": [
    "# 숨바꼭질\n",
    "- source : [백준 1697](https://www.acmicpc.net/problem/1697)\n",
    "- 난이도 : 실버 I\n",
    "- 분류 : 그래프 이론, 그래프 탐색, DFS, BFS\n",
    "\n",
    "## 문제\n",
    "- 수빈이는 동생과 숨바꼭질을 하고 있다. 수빈이는 현재 점 N(0 ≤ N ≤ 100,000)에 있고, 동생은 점 K(0 ≤ K ≤ 100,000)에 있다. 수빈이는 걷거나 순간이동을 할 수 있다. 만약, 수빈이의 위치가 X일 때 걷는다면 1초 후에 X-1 또는 X+1로 이동하게 된다. 순간이동을 하는 경우에는 1초 후에 2*X의 위치로 이동하게 된다.\n",
    "\n",
    "- 수빈이와 동생의 위치가 주어졌을 때, 수빈이가 동생을 찾을 수 있는 가장 빠른 시간이 몇 초 후인지 구하는 프로그램을 작성하시오.\n",
    "\n",
    "    \n",
    "## 입력\n",
    "- 첫 번째 줄에 수빈이가 있는 위치 N과 동생이 있는 위치 K가 주어진다. N과 K는 정수이다.\n",
    "\n",
    "\n",
    "## 출력\n",
    "- 수빈이가 동생을 찾는 가장 빠른 시간을 출력한다.\n",
    "\n",
    "![image-5.png](attachment:image-5.png)"
   ]
  },
  {
   "cell_type": "markdown",
   "metadata": {},
   "source": [
    "### 수도 코드\n",
    "```\n",
    "for 이동방법 in [걷기+순간이동]:   \n",
    "    new = 현재 위치 + 이동방법   \n",
    "    if 최초위치(n) <= new <= k:   \n",
    "```\n",
    "\n",
    "- 걷기 중 \"-1\" 이 있기 때문에 new의 범위를 n과 k로 제한하는 것이 아닌 0과 문제의 최댓값으로 설정해야한다.\n",
    "- 시간을 알 수 있는 빈 배열(dist)을 만들어서 누적시킨다."
   ]
  },
  {
   "cell_type": "code",
   "execution_count": 4,
   "metadata": {},
   "outputs": [
    {
     "name": "stdout",
     "output_type": "stream",
     "text": [
      "5 17\n",
      "0\n",
      "0\n",
      "0\n",
      "0\n",
      "0\n",
      "0\n",
      "0\n",
      "0\n",
      "0\n",
      "0\n",
      "0\n",
      "0\n",
      "0\n",
      "0\n",
      "0\n",
      "0\n",
      "0\n",
      "0\n",
      "0\n",
      "0\n",
      "0\n",
      "0\n",
      "0\n",
      "0\n",
      "0\n",
      "0\n",
      "0\n",
      "0\n",
      "0\n",
      "0\n",
      "0\n",
      "0\n",
      "0\n",
      "0\n",
      "0\n",
      "0\n",
      "0\n",
      "0\n",
      "0\n",
      "4\n"
     ]
    }
   ],
   "source": [
    "from collections import deque\n",
    "\n",
    "walk = [-1, 1 ]\n",
    "jump = [\"*2\"]\n",
    "move = [\"-1\", \"+1\", \"*2\"]\n",
    "n, x = map(int, input().split())\n",
    "queue = deque([n])   # 초기값 설정\n",
    "Max = 100000         # 문제에서 제시한 n,x의 최댓값 \n",
    "dist = [0] * (Max+1)\n",
    "\n",
    "while queue:\n",
    "    n = queue.popleft()\n",
    "    if n == x:\n",
    "        print(dist[n])\n",
    "        break\n",
    "        \n",
    "    for i in [n-1, n+1, n*2]:\n",
    "        if 0 <= i <= Max and not dist[i]:\n",
    "            queue.append(i)\n",
    "            dist[i] = dist[n] + 1"
   ]
  }
 ],
 "metadata": {
  "kernelspec": {
   "display_name": "Python 3",
   "language": "python",
   "name": "python3"
  },
  "language_info": {
   "codemirror_mode": {
    "name": "ipython",
    "version": 3
   },
   "file_extension": ".py",
   "mimetype": "text/x-python",
   "name": "python",
   "nbconvert_exporter": "python",
   "pygments_lexer": "ipython3",
   "version": "3.7.9"
  }
 },
 "nbformat": 4,
 "nbformat_minor": 4
}

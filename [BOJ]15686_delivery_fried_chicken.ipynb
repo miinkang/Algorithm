{
 "cells": [
  {
   "attachments": {
    "image-5.png": {
     "image/png": "[encoded data removed]"
    }
   },
   "cell_type": "markdown",
   "metadata": {},
   "source": [
    "# 치킨 배달 \n",
    "- source : [백준 15686](https://www.acmicpc.net/problem/15686)\n",
    "- 난이도 : 골드 V\n",
    "- 분류 : 구현, 브루트 포스 알고리즘, 백트래킹 \n",
    "\n",
    "## 문제\n",
    "- 크기가 N×N인 도시가 있다. 도시는 1×1크기의 칸으로 나누어져 있다. 도시의 각 칸은 빈 칸, 치킨집, 집 중 하나이다. 도시의 칸은 (r, c)와 같은 형태로 나타내고, r행 c열 또는 위에서부터 r번째 칸, 왼쪽에서부터 c번째 칸을 의미한다. r과 c는 1부터 시작한다.\n",
    "\n",
    "- 이 도시에 사는 사람들은 치킨을 매우 좋아한다. 따라서, 사람들은 \"치킨 거리\"라는 말을 주로 사용한다. 치킨 거리는 집과 가장 가까운 치킨집 사이의 거리이다. 즉, 치킨 거리는 집을 기준으로 정해지며, 각각의 집은 치킨 거리를 가지고 있다. 도시의 치킨 거리는 모든 집의 치킨 거리의 합이다.\n",
    "\n",
    "- 임의의 두 칸 (r1, c1)과 (r2, c2) 사이의 거리는 |r1-r2| + |c1-c2|로 구한다.\n",
    "\n",
    "- 예를 들어, 아래와 같은 지도를 갖는 도시를 살펴보자.\n",
    "\n",
    "```0 2 0 1 0\n",
    "1 0 1 0 0\n",
    "0 0 0 0 0\n",
    "0 0 0 1 1\n",
    "0 0 0 1 2\n",
    "```\n",
    "\n",
    "- 0은 빈 칸, 1은 집, 2는 치킨집이다.\n",
    "\n",
    "- (2, 1)에 있는 집과 (1, 2)에 있는 치킨집과의 거리는 |2-1| + |1-2| = 2, (5, 5)에 있는 치킨집과의 거리는 |2-5| + |1-5| = 7이다. 따라서, (2, 1)에 있는 집의 치킨 거리는 2이다.\n",
    "\n",
    "- (5, 4)에 있는 집과 (1, 2)에 있는 치킨집과의 거리는 |5-1| + |4-2| = 6, (5, 5)에 있는 치킨집과의 거리는 |5-5| + |4-5| = 1이다. 따라서, (5, 4)에 있는 집의 치킨 거리는 1이다.\n",
    "\n",
    "- 이 도시에 있는 치킨집은 모두 같은 프랜차이즈이다. 프렌차이즈 본사에서는 수익을 증가시키기 위해 일부 치킨집을 폐업시키려고 한다. 오랜 연구 끝에 이 도시에서 가장 수익을 많이 낼 수 있는  치킨집의 개수는 최대 M개라는 사실을 알아내었다.\n",
    "\n",
    "- 도시에 있는 치킨집 중에서 최대 M개를 고르고, 나머지 치킨집은 모두 폐업시켜야 한다. 어떻게 고르면, 도시의 치킨 거리가 가장 작게 될지 구하는 프로그램을 작성하시오.\n",
    "    \n",
    "## 입력\n",
    "- 첫째 줄에 N(2 ≤ N ≤ 50)과 M(1 ≤ M ≤ 13)이 주어진다.\n",
    "\n",
    "- 둘째 줄부터 N개의 줄에는 도시의 정보가 주어진다.\n",
    "\n",
    "- 도시의 정보는 0, 1, 2로 이루어져 있고, 0은 빈 칸, 1은 집, 2는 치킨집을 의미한다. 집의 개수는 2N개를 넘지 않으며, 적어도 1개는 존재한다. 치킨집의 개수는 M보다 크거나 같고, 13보다 작거나 같다.\n",
    "\n",
    "## 출력\n",
    "- 첫째 줄에 스타트 팀과 링크 팀의 능력치의 차이의 최솟값을 출력한다.\n",
    "\n",
    "![image-5.png](attachment:image-5.png)\n",
    "\n",
    "**pseudocode**    \n",
    "1. m개의 치킨집을 구한다.\n",
    "2. 도시의 치킨거리를 구한다.\n",
    "3. 그 중 최소 거리를 출력한다."
   ]
  },
  {
   "cell_type": "code",
   "execution_count": 3,
   "metadata": {},
   "outputs": [],
   "source": [
    "n = 5\n",
    "m = 2\n",
    "\n",
    "c = [[0, 2, 0, 1, 0],\n",
    "[1, 0, 1, 0, 0],\n",
    "[0, 0, 0, 0, 0],\n",
    "[2, 0, 0, 1, 1],\n",
    "[2, 2, 0, 1, 2]]\n",
    "\n",
    "# 출력 : 10"
   ]
  },
  {
   "cell_type": "code",
   "execution_count": 1,
   "metadata": {},
   "outputs": [],
   "source": [
    "from itertools import combinations"
   ]
  },
  {
   "cell_type": "code",
   "execution_count": 5,
   "metadata": {},
   "outputs": [
    {
     "name": "stdout",
     "output_type": "stream",
     "text": [
      "[(0, 1), (3, 0), (4, 0), (4, 1), (4, 4)]\n",
      "5\n"
     ]
    }
   ],
   "source": [
    "ck_list = [] # 치킨집의 위치\n",
    "for i in range(5):\n",
    "    for j in range(5):\n",
    "        if c[i][j] == 2:\n",
    "            ck_list.append((i, j))\n",
    "\n",
    "print(ck_list)\n",
    "print(len(ck_list))"
   ]
  },
  {
   "cell_type": "code",
   "execution_count": 7,
   "metadata": {},
   "outputs": [
    {
     "name": "stdout",
     "output_type": "stream",
     "text": [
      "[((0, 1), (3, 0)), ((0, 1), (4, 0)), ((0, 1), (4, 1)), ((0, 1), (4, 4)), ((3, 0), (4, 0)), ((3, 0), (4, 1)), ((3, 0), (4, 4)), ((4, 0), (4, 1)), ((4, 0), (4, 4)), ((4, 1), (4, 4))]\n"
     ]
    }
   ],
   "source": [
    "m_ck = list(combinations(ck_list, m)) # m개의 치킨집 조합\n",
    "print(m_ck)"
   ]
  },
  {
   "cell_type": "code",
   "execution_count": 8,
   "metadata": {
    "scrolled": true
   },
   "outputs": [
    {
     "name": "stdout",
     "output_type": "stream",
     "text": [
      "[(0, 3), (1, 0), (1, 2), (3, 3), (3, 4), (4, 3)]\n",
      "6\n"
     ]
    }
   ],
   "source": [
    "house_list = [] # 집의 위치\n",
    "for i in range(5):\n",
    "    for j in range(5):\n",
    "        if c[i][j] == 1:\n",
    "            house_list.append((i, j))\n",
    "\n",
    "print(house_list)\n",
    "print(len(house_list))"
   ]
  },
  {
   "cell_type": "markdown",
   "metadata": {},
   "source": [
    "- 치킨집 조합을 돌면서 각 조합별 도시의 치킨거리를 구한다."
   ]
  },
  {
   "cell_type": "code",
   "execution_count": 21,
   "metadata": {},
   "outputs": [
    {
     "name": "stdout",
     "output_type": "stream",
     "text": [
      "10\n"
     ]
    }
   ],
   "source": [
    "city_dists = [] \n",
    "for i in range(len(m_ck)):  # 조합 케이스 \n",
    "    city_dist = 0\n",
    "    for j in range(len(house_list)): # 각 집의 치킨거리를 구한다.\n",
    "        min_dist = 50\n",
    "        rh, ch = house_list[j]\n",
    "        for j in m_ck[i]:\n",
    "            rc, cc = j\n",
    "            if (abs(rh-rc) + abs(ch-cc)) <= min_dist:\n",
    "                min_dist = abs(rh-rc) + abs(ch-cc)\n",
    "        city_dist += min_dist # 모든 집의 치킨거리를 누적시킨다 = 도시의 치킨거리\n",
    "    \n",
    "    city_dists.append(city_dist)\n",
    "        \n",
    "print(min(city_dists))"
   ]
  },
  {
   "cell_type": "markdown",
   "metadata": {},
   "source": [
    "**첫 번째 시도**"
   ]
  },
  {
   "cell_type": "code",
   "execution_count": 22,
   "metadata": {},
   "outputs": [
    {
     "name": "stdout",
     "output_type": "stream",
     "text": [
      "10\n"
     ]
    }
   ],
   "source": [
    "import sys\n",
    "from itertools import combinations\n",
    "\n",
    "n, m = map(int, sys.stdin.readline().split())\n",
    "c = []\n",
    "for i in range(n):\n",
    "    c.append(list(map(int, sys.stdin.readline().split())))\n",
    "\n",
    "ck_list = [] # 치킨집의 위치\n",
    "for i in range(n):\n",
    "    for j in range(n):\n",
    "        if c[i][j] == 2:\n",
    "            ck_list.append((i, j))\n",
    "            \n",
    "m_ck = list(combinations(ck_list, m)) # m개의 치킨집 조합\n",
    "\n",
    "house_list = [] # 집의 위치\n",
    "for i in range(n):\n",
    "    for j in range(n):\n",
    "        if c[i][j] == 1:\n",
    "            house_list.append((i, j))\n",
    "        \n",
    "city_dists = [] \n",
    "for i in range(len(m_ck)):  # 조합 케이스 \n",
    "    city_dist = 0\n",
    "    for j in range(len(house_list)): # 각 집의 치킨거리를 구한다.\n",
    "        min_dist = 50\n",
    "        rh, ch = house_list[j]\n",
    "        for j in m_ck[i]:\n",
    "            rc, cc = j\n",
    "            if (abs(rh-rc) + abs(ch-cc)) <= min_dist:\n",
    "                min_dist = abs(rh-rc) + abs(ch-cc)\n",
    "        city_dist += min_dist # 모든 집의 치킨거리를 누적시킨다 = 도시의 치킨거리\n",
    "    \n",
    "    city_dists.append(city_dist)\n",
    "        \n",
    "print(min(city_dists))"
   ]
  },
  {
   "attachments": {
    "image-4.png": {
     "image/png": "[encoded data removed]"
    }
   },
   "cell_type": "markdown",
   "metadata": {},
   "source": [
    "![image-4.png](attachment:image-4.png)"
   ]
  },
  {
   "cell_type": "markdown",
   "metadata": {},
   "source": [
    "- dfs와 라이브러리 속도 비교를 해봐야겠다..!"
   ]
  }
 ],
 "metadata": {
  "kernelspec": {
   "display_name": "Python 3",
   "language": "python",
   "name": "python3"
  },
  "language_info": {
   "codemirror_mode": {
    "name": "ipython",
    "version": 3
   },
   "file_extension": ".py",
   "mimetype": "text/x-python",
   "name": "python",
   "nbconvert_exporter": "python",
   "pygments_lexer": "ipython3",
   "version": "3.7.9"
  }
 },
 "nbformat": 4,
 "nbformat_minor": 4
}

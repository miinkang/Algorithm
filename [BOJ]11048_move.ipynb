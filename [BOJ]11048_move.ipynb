{
 "cells": [
  {
   "attachments": {
    "image-5.png": {
     "image/png": "[encoded data removed]"
    }
   },
   "cell_type": "markdown",
   "metadata": {},
   "source": [
    "# 이동하기\n",
    "- source : [백준 11048](https://www.acmicpc.net/problem/11048)\n",
    "- 난이도 : 실버 II\n",
    "- 분류 : 다이나믹 프로그래밍 \n",
    "\n",
    "## 문제\n",
    "- 준규는 N×M 크기의 미로에 갇혀있다. 미로는 1×1크기의 방으로 나누어져 있고, 각 방에는 사탕이 놓여져 있다. 미로의 가장 왼쪽 윗 방은 (1, 1)이고, 가장 오른쪽 아랫 방은 (N, M)이다.\n",
    "\n",
    "- 준규는 현재 (1, 1)에 있고, (N, M)으로 이동하려고 한다. 준규가 (r, c)에 있으면, (r+1, c), (r, c+1), (r+1, c+1)로 이동할 수 있고, 각 방을 방문할 때마다 방에 놓여져있는 사탕을 모두 가져갈 수 있다. 또, 미로 밖으로 나갈 수는 없다.\n",
    "\n",
    "- 준규가 (N, M)으로 이동할 때, 가져올 수 있는 사탕 개수의 최댓값을 구하시오.\n",
    "\n",
    "\n",
    "    \n",
    "## 입력\n",
    "- 첫째 줄에 미로의 크기 N, M이 주어진다. (1 ≤ N, M ≤ 1,000)\n",
    "- 둘째 줄부터 N개 줄에는 총 M개의 숫자가 주어지며, r번째 줄의 c번째 수는 (r, c)에 놓여져 있는 사탕의 개수이다. 사탕의 개수는 0보다 크거나 같고, 100보다 작거나 같다.\n",
    "\n",
    "## 출력\n",
    "- 첫째 줄에 준규가 (N, M)으로 이동할 때, 가져올 수 있는 사탕 개수를 출력한다.\n",
    "\n",
    "![image-5.png](attachment:image-5.png)"
   ]
  },
  {
   "cell_type": "code",
   "execution_count": 1,
   "metadata": {},
   "outputs": [
    {
     "data": {
      "text/plain": [
       "[[0, 0, 0, 0], [0, 0, 0, 0], [0, 0, 0, 0]]"
      ]
     },
     "execution_count": 1,
     "metadata": {},
     "output_type": "execute_result"
    }
   ],
   "source": [
    "n, m = 3, 4\n",
    "maze = [[1, 2, 3, 4], \n",
    "       [0, 0, 0, 5],\n",
    "       [9, 8, 7, 6]]\n",
    "\n",
    "visited = [[0 for _ in range(m)] for _ in range(3)]\n",
    "\n",
    "dx = [1, 0, 1]\n",
    "dy = [0, 1, 1]\n",
    "\n",
    "from collections import deque\n",
    "\n",
    "queue = deque()\n",
    "queue.append(0, 0)\n",
    "\n",
    "while queue:\n",
    "    x, y = queue.pop()\n",
    "    \n",
    "    for d in range(3):\n",
    "        nx = x + dx[i]\n",
    "        ny = y + dy[i]      \n",
    "        \n",
    "        if 0<=nx<n and 0<=ny<m:\n",
    "            "
   ]
  },
  {
   "cell_type": "code",
   "execution_count": 12,
   "metadata": {},
   "outputs": [
    {
     "name": "stdout",
     "output_type": "stream",
     "text": [
      "31\n"
     ]
    }
   ],
   "source": [
    "n, m = 3, 4\n",
    "maze = [[1, 2, 3, 4], \n",
    "       [0, 0, 0, 5],\n",
    "       [9, 8, 7, 6]]\n",
    "\n",
    "dp = [[0 for _ in range(m+1)] for _ in range(n+1)]\n",
    "\n",
    "for i in range(1, n+1):\n",
    "    for j in range(1, m+1):\n",
    "        dp[i][j] = maze[i-1][j-1] + max(dp[i-1][j], dp[i][j-1], dp[i-1][j-1])\n",
    "\n",
    "print(dp[-1][-1])"
   ]
  },
  {
   "cell_type": "code",
   "execution_count": null,
   "metadata": {},
   "outputs": [],
   "source": [
    "import sys\n",
    "\n",
    "inp = sys.stdin.readline\n",
    "n, m = map(int, inp().split())\n",
    "maze = [list(map(int, inp().split())) for _ in range(n)]\n",
    "dp = [[0 for _ in range(m+1)] for _ in range(n+1)]\n",
    "\n",
    "for i in range(1, n+1):\n",
    "    for j in range(1, m+1):\n",
    "        dp[i][j] = maze[i-1][j-1] + max(dp[i-1][j], dp[i][j-1], dp[i-1][j-1])\n",
    "\n",
    "print(dp[-1][-1])"
   ]
  },
  {
   "attachments": {
    "image-3.png": {
     "image/png": "[encoded data removed]"
    }
   },
   "cell_type": "markdown",
   "metadata": {},
   "source": [
    "![image-3.png](attachment:image-3.png)\n",
    "- [코드 출처](https://deok2kim.tistory.com/73)"
   ]
  }
 ],
 "metadata": {
  "kernelspec": {
   "display_name": "Python 3",
   "language": "python",
   "name": "python3"
  },
  "language_info": {
   "codemirror_mode": {
    "name": "ipython",
    "version": 3
   },
   "file_extension": ".py",
   "mimetype": "text/x-python",
   "name": "python",
   "nbconvert_exporter": "python",
   "pygments_lexer": "ipython3",
   "version": "3.7.9"
  }
 },
 "nbformat": 4,
 "nbformat_minor": 4
}

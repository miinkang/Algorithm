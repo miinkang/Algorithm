{
 "cells": [
  {
   "cell_type": "markdown",
   "id": "funky-complex",
   "metadata": {},
   "source": [
    "# 1이 될 때까지\n",
    "- source : \\[이것이코딩테스트다(파이썬)\\] chapter03.그리디 p.99\n",
    "- 난이도 ★☆☆  \n",
    "\n",
    "어떠한 수 N이 1이 될 때까지 다음의 두 과정 중 하나를 반복적으로 선택하여 수행하려고 한다. 단, 두 번째 연산은 N이 K로 나누어떨어질 때만 선택할 수 있다.\n",
    "1. N에서 1을 뺀다.\n",
    "2. N을 K로 나눈다.   \n",
    "N과 K가 주어질 때 N이 1이 될 때까지 1번 혹은 2번의 과정을 수행해야 하는 최소 횟수를 구하는 프로그램을 작성하시오.\n",
    "\n",
    "## 입력 조건 \n",
    "첫째 줄에 N(2 <= N <= 100,000), K(2 <= K <= 100,000)가 공백으로 구분되며 각각 자연수로 주어진다. 이때 입력으로 주어지는 N은 항상 K보다 크거나 같다.\n",
    "\n",
    "## 출력 조건\n",
    "첫째 줄에 N이 1이 될 때까지 1번 혹은 2번의 과정을 수행해야 하는 횟수의 최솟값을 출력한다.\n",
    "\n",
    "## 입출력 예시 \n",
    "- 입력 예시 : 25 5 \n",
    "- 출력 예시 : 2 "
   ]
  },
  {
   "cell_type": "code",
   "execution_count": 27,
   "id": "alert-scope",
   "metadata": {},
   "outputs": [],
   "source": [
    "def makeOne(n, k):\n",
    "    trial=0\n",
    "    while n!=1:\n",
    "        if n%k==0:\n",
    "            trial += 1\n",
    "            n //= k\n",
    "\n",
    "        else:\n",
    "            trial += 1\n",
    "            n -= 1\n",
    "    \n",
    "    return trial"
   ]
  },
  {
   "cell_type": "code",
   "execution_count": 30,
   "id": "indie-alliance",
   "metadata": {},
   "outputs": [
    {
     "name": "stdout",
     "output_type": "stream",
     "text": [
      "3\n"
     ]
    }
   ],
   "source": [
    "answer = makeOne(17, 4)\n",
    "print(answer)"
   ]
  },
  {
   "cell_type": "code",
   "execution_count": 29,
   "id": "anonymous-difference",
   "metadata": {},
   "outputs": [
    {
     "name": "stdout",
     "output_type": "stream",
     "text": [
      "2\n"
     ]
    }
   ],
   "source": [
    "answer = makeOne(25, 5)\n",
    "print(answer)"
   ]
  },
  {
   "cell_type": "markdown",
   "id": "numerical-hearing",
   "metadata": {},
   "source": [
    "## 책의 해설코드"
   ]
  },
  {
   "cell_type": "code",
   "execution_count": 2,
   "id": "grand-broadway",
   "metadata": {},
   "outputs": [
    {
     "name": "stdout",
     "output_type": "stream",
     "text": [
      "17 4\n",
      "3\n"
     ]
    }
   ],
   "source": [
    "n, k = map(int, input().split())\n",
    "\n",
    "result = 0\n",
    "\n",
    "while True:\n",
    "    target = (n//k)*k  # k로 나눈 몫에 k를 곱한다. 나머지를 없애버리기 \n",
    "    result += (n - target) # 나머지 == 뺄셈 계산 횟수 \n",
    "    n = target \n",
    "    \n",
    "    if n < k:  # k보다 n이 작으면 나눌 수 없으니까 break \n",
    "        break \n",
    "    \n",
    "    result += 1 \n",
    "    n //= k \n",
    "\n",
    "result += (n -1)\n",
    "print(result)"
   ]
  }
 ],
 "metadata": {
  "kernelspec": {
   "display_name": "Python 3",
   "language": "python",
   "name": "python3"
  },
  "language_info": {
   "codemirror_mode": {
    "name": "ipython",
    "version": 3
   },
   "file_extension": ".py",
   "mimetype": "text/x-python",
   "name": "python",
   "nbconvert_exporter": "python",
   "pygments_lexer": "ipython3",
   "version": "3.7.9"
  }
 },
 "nbformat": 4,
 "nbformat_minor": 5
}

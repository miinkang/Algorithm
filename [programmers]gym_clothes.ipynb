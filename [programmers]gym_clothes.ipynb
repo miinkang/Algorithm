{
 "cells": [
  {
   "attachments": {
    "image-9.png": {
     "image/png": "[encoded data removed]"
    }
   },
   "cell_type": "markdown",
   "metadata": {},
   "source": [
    "# 체육복\n",
    "- source : [체육복](https://programmers.co.kr/learn/courses/30/lessons/42862)\n",
    "- level : 1\n",
    "- type : 그리디\n",
    "\n",
    "## 문제 설명 \n",
    "점심시간에 도둑이 들어, 일부 학생이 체육복을 도난당했습니다. 다행히 여벌 체육복이 있는 학생이 이들에게 체육복을 빌려주려 합니다. 학생들의 번호는 체격 순으로 매겨져 있어, 바로 앞번호의 학생이나 바로 뒷번호의 학생에게만 체육복을 빌려줄 수 있습니다. 예를 들어, 4번 학생은 3번 학생이나 5번 학생에게만 체육복을 빌려줄 수 있습니다. 체육복이 없으면 수업을 들을 수 없기 때문에 체육복을 적절히 빌려 최대한 많은 학생이 체육수업을 들어야 합니다.\n",
    "\n",
    "전체 학생의 수 n, 체육복을 도난당한 학생들의 번호가 담긴 배열 lost, 여벌의 체육복을 가져온 학생들의 번호가 담긴 배열 reserve가 매개변수로 주어질 때, 체육수업을 들을 수 있는 학생의 최댓값을 return 하도록 solution 함수를 작성해주세요.\n",
    "\n",
    "### 제한 사항\n",
    "- 전체 학생의 수는 2명 이상 30명 이하입니다.\n",
    "- 체육복을 도난당한 학생의 수는 1명 이상 n명 이하이고 중복되는 번호는 없습니다.\n",
    "- 여벌의 체육복을 가져온 학생의 수는 1명 이상 n명 이하이고 중복되는 번호는 없습니다.\n",
    "- 여벌 체육복이 있는 학생만 다른 학생에게 체육복을 빌려줄 수 있습니다.\n",
    "- 여벌 체육복을 가져온 학생이 체육복을 도난당했을 수 있습니다. 이때 이 학생은 체육복을 하나만 도난당했다고 가정하며, 남은 체육복이 하나이기에 다른 학생에게는 체육복을 빌려줄 수 없습니다.\n",
    "\n",
    "![image-9.png](attachment:image-9.png)\n",
    "\n",
    "### 입출력 예 설명\n",
    "- 예제 #1   \n",
    "1번 학생이 2번 학생에게 체육복을 빌려주고, 3번 학생이나 5번 학생이 4번 학생에게 체육복을 빌려주면 학생 5명이 체육수업을 들을 수 있습니다.\n",
    "\n",
    "- 예제 #2   \n",
    "3번 학생이 2번 학생이나 4번 학생에게 체육복을 빌려주면 학생 4명이 체육수업을 들을 수 있습니다.\n",
    "\n"
   ]
  },
  {
   "cell_type": "markdown",
   "metadata": {},
   "source": [
    "### pseudo code\n",
    "\n",
    "1. reserve 원소의 앞(-1), 뒤(+1)를 계산하며 lost와 일치하는 경우 lost에서 뺀다. \n",
    "    1. n을 이용해 맨 앞 학생과 맨 뒤 학생은 앞 혹은 뒤만 계산한다.\n",
    "2. n - lost에 남은 원소의 개수 = return "
   ]
  },
  {
   "cell_type": "code",
   "execution_count": 32,
   "metadata": {},
   "outputs": [
    {
     "name": "stdout",
     "output_type": "stream",
     "text": [
      "[[800, 3], [500, 0], [150, 2]]\n"
     ]
    }
   ],
   "source": [
    "print(sorted(final_dict['classic'], key=itemgetter(0), reverse=True))"
   ]
  },
  {
   "cell_type": "markdown",
   "metadata": {},
   "source": [
    "## 1st trial"
   ]
  },
  {
   "cell_type": "code",
   "execution_count": 14,
   "metadata": {},
   "outputs": [],
   "source": [
    "def solution(n, lost, reserve):\n",
    "    answer = 0\n",
    "    \n",
    "    for re_stu in reserve:\n",
    "        print('re_stu :',re_stu)\n",
    "        check_f = 0\n",
    "        check_b = 0\n",
    "        \n",
    "        if re_stu == 1:\n",
    "            check_f = 0\n",
    "            check_b = re_stu + 1 \n",
    "            \n",
    "        elif re_stu == n:\n",
    "            check_f = re_stu - 1\n",
    "            check_b = 0\n",
    "            \n",
    "        else:\n",
    "            check_f = re_stu - 1\n",
    "            check_b = re_stu + 1 \n",
    "        \n",
    "        print(check_f)\n",
    "        print(check_b)\n",
    "        \n",
    "        if check_f in lost:\n",
    "            lost.remove(check_f)\n",
    "            continue\n",
    "        \n",
    "        if check_b in lost:\n",
    "            lost.remove(check_b)\n",
    "            continue\n",
    "    print(lost)\n",
    "    \n",
    "    answer = n - len(lost)\n",
    "    \n",
    "    return answer"
   ]
  },
  {
   "cell_type": "code",
   "execution_count": 15,
   "metadata": {
    "scrolled": true
   },
   "outputs": [
    {
     "name": "stdout",
     "output_type": "stream",
     "text": [
      "re_stu : 1\n",
      "0\n",
      "2\n",
      "re_stu : 3\n",
      "2\n",
      "4\n",
      "re_stu : 5\n",
      "4\n",
      "0\n",
      "[]\n"
     ]
    },
    {
     "data": {
      "text/plain": [
       "5"
      ]
     },
     "execution_count": 15,
     "metadata": {},
     "output_type": "execute_result"
    }
   ],
   "source": [
    "solution(5, [2, 4], [1, 3, 5])"
   ]
  },
  {
   "cell_type": "markdown",
   "metadata": {},
   "source": [
    "1,2,3,7,12,18,20 에서 실패"
   ]
  },
  {
   "cell_type": "markdown",
   "metadata": {},
   "source": [
    "## 2nd trial"
   ]
  },
  {
   "cell_type": "code",
   "execution_count": 17,
   "metadata": {},
   "outputs": [],
   "source": [
    "def solution(genres, plays):\n",
    "    from collections import defaultdict\n",
    "    from operator import itemgetter\n",
    "    answer = []\n",
    "    genres_list = list(set(genres))\n",
    "#     print(genres_list)\n",
    "    genres_dict = defaultdict(int)           # int로 지정하면 0으로 기본값이 설정된다. \n",
    "#     genres_dict = defaultdict(lambda : 0)  #  lambda식을 이용해 기본값을 설정할 수 있다.\n",
    "    \n",
    "\n",
    "    for genre, play in zip(genres, plays):\n",
    "#         print(genre, play)\n",
    "        genres_dict[genre] += play\n",
    "        \n",
    "#     print('genres_dict :', genres_dict)\n",
    "#     print(genres_dict.keys())\n",
    "#     print(genres_dict.items())\n",
    "    \n",
    "#     print(genres_dict.itemgetter(0))\n",
    "#     print(genres_dict.itemgetter(-1))\n",
    "    \n",
    "    sort_dict = sorted(genres_dict, key=(lambda x : x[1]), reverse=True) # 재생횟수가 많은 순서의 장르\n",
    "    print('sort_dict :', sort_dict)\n",
    "    \n",
    "    final_dict = defaultdict(lambda : []) # key:장르, item: play, index 로 구성\n",
    "    \n",
    "    for idx, genre_play in enumerate(zip(genres, plays)):\n",
    "        final_dict[genre_play[0]].append([genre_play[1], idx])\n",
    "#     print('final_dict :', final_dict)\n",
    "    \n",
    "    for genre in sort_dict:\n",
    "        one_genre = sorted(final_dict[genre], key=itemgetter(0), reverse=True)\n",
    "#         print('one_genre :', one_genre)\n",
    "        if len(one_genre) > 1:\n",
    "            answer.append(one_genre[0][1])\n",
    "            answer.append(one_genre[1][1])\n",
    "        else:\n",
    "            answer.append(one_genre[0][1])\n",
    "        \n",
    "    return answer"
   ]
  },
  {
   "cell_type": "code",
   "execution_count": 18,
   "metadata": {
    "scrolled": false
   },
   "outputs": [
    {
     "name": "stdout",
     "output_type": "stream",
     "text": [
      "sort_dict : ['pop', 'classic']\n"
     ]
    },
    {
     "data": {
      "text/plain": [
       "[4, 1, 3, 0]"
      ]
     },
     "execution_count": 18,
     "metadata": {},
     "output_type": "execute_result"
    }
   ],
   "source": [
    "solution([\"classic\", \"pop\", \"classic\", \"classic\", \"pop\"],[500, 600, 150, 800, 2500])  # 답 : [4,1,3,0]"
   ]
  },
  {
   "cell_type": "markdown",
   "metadata": {},
   "source": [
    "2nd case"
   ]
  },
  {
   "cell_type": "code",
   "execution_count": 19,
   "metadata": {
    "scrolled": true
   },
   "outputs": [
    {
     "name": "stdout",
     "output_type": "stream",
     "text": [
      "sort_dict : ['pop', 'classic']\n"
     ]
    },
    {
     "data": {
      "text/plain": [
       "[1, 0, 2]"
      ]
     },
     "execution_count": 19,
     "metadata": {},
     "output_type": "execute_result"
    }
   ],
   "source": [
    "solution([\"classic\", \"pop\", \"classic\", \"classic\", \"classic\", \"classic\"], [500, 1000, 400, 300, 200, 100])  # 답 : [0,2,1]"
   ]
  },
  {
   "cell_type": "markdown",
   "metadata": {},
   "source": [
    "왜...sorting이 제대로 안되는 걸까....왜..........\n",
    "\n",
    "```\n",
    "sort_dict = sorted(genres_dict, key=(lambda x : x[1]), reverse=True)\n",
    "```\n",
    "\n",
    "으로 하면 두 번째 케이스 정렬이 안된다.\n",
    "이유가 무엇일까 ㅜㅜ \n",
    "items() 로 key, value를 정렬하니 성공!"
   ]
  },
  {
   "cell_type": "code",
   "execution_count": 11,
   "metadata": {},
   "outputs": [],
   "source": [
    "def solution(genres, plays):\n",
    "    from collections import defaultdict\n",
    "    from operator import itemgetter\n",
    "    answer = []\n",
    "    genres_list = list(set(genres))\n",
    "#     print(genres_list)\n",
    "    genres_dict = defaultdict(int)           # int로 지정하면 0으로 기본값이 설정된다. \n",
    "#     genres_dict = defaultdict(lambda : 0)  #  lambda식을 이용해 기본값을 설정할 수 있다.\n",
    "    \n",
    "\n",
    "    for genre, play in zip(genres, plays):\n",
    "#         print(genre, play)\n",
    "        genres_dict[genre] += play\n",
    "        \n",
    "#     print('genres_dict :', genres_dict)\n",
    "#     print(genres_dict.keys())\n",
    "#     print(genres_dict.items())\n",
    "    \n",
    "#     print(genres_dict.itemgetter(0))\n",
    "#     print(genres_dict.itemgetter(-1))\n",
    "    \n",
    "    sort_dict = sorted(genres_dict.items(), key=(lambda x : x[1]), reverse=True) # 재생횟수가 많은 순서의 장르\n",
    "#     print('sort_dict :', sort_dict)\n",
    "    \n",
    "    final_dict = defaultdict(lambda : []) # key:장르, item: play, index 로 구성\n",
    "    \n",
    "    for idx, genre_play in enumerate(zip(genres, plays)):\n",
    "        final_dict[genre_play[0]].append([genre_play[1], idx])\n",
    "#     print('final_dict :', final_dict)\n",
    "    \n",
    "    for (genre, play) in sort_dict:\n",
    "        one_genre = sorted(final_dict[genre], key=itemgetter(0), reverse=True)\n",
    "#         print('one_genre :', one_genre)\n",
    "        if len(one_genre) > 1:\n",
    "            answer.append(one_genre[0][1])\n",
    "            answer.append(one_genre[1][1])\n",
    "        else:\n",
    "            answer.append(one_genre[0][1])\n",
    "        \n",
    "    return answer"
   ]
  },
  {
   "cell_type": "code",
   "execution_count": 12,
   "metadata": {
    "scrolled": false
   },
   "outputs": [
    {
     "name": "stdout",
     "output_type": "stream",
     "text": [
      "genres_dict : defaultdict(<class 'int'>, {'classic': 1450, 'pop': 3100})\n",
      "dict_keys(['classic', 'pop'])\n",
      "dict_items([('classic', 1450), ('pop', 3100)])\n",
      "sort_dict : [('pop', 3100), ('classic', 1450)]\n",
      "final_dict : defaultdict(<function solution.<locals>.<lambda> at 0x0000026E5E4C6708>, {'classic': [[500, 0], [150, 2], [800, 3]], 'pop': [[600, 1], [2500, 4]]})\n",
      "one_genre : [[2500, 4], [600, 1]]\n",
      "one_genre : [[800, 3], [500, 0], [150, 2]]\n"
     ]
    },
    {
     "data": {
      "text/plain": [
       "[4, 1, 3, 0]"
      ]
     },
     "execution_count": 12,
     "metadata": {},
     "output_type": "execute_result"
    }
   ],
   "source": [
    "solution([\"classic\", \"pop\", \"classic\", \"classic\", \"pop\"],[500, 600, 150, 800, 2500])  # 답 : [4,1,3,0]"
   ]
  },
  {
   "cell_type": "markdown",
   "metadata": {},
   "source": [
    "2nd case"
   ]
  },
  {
   "cell_type": "code",
   "execution_count": 13,
   "metadata": {
    "scrolled": true
   },
   "outputs": [
    {
     "name": "stdout",
     "output_type": "stream",
     "text": [
      "genres_dict : defaultdict(<class 'int'>, {'classic': 1500, 'pop': 1000})\n",
      "dict_keys(['classic', 'pop'])\n",
      "dict_items([('classic', 1500), ('pop', 1000)])\n",
      "sort_dict : [('classic', 1500), ('pop', 1000)]\n",
      "final_dict : defaultdict(<function solution.<locals>.<lambda> at 0x0000026E5E4C6798>, {'classic': [[500, 0], [400, 2], [300, 3], [200, 4], [100, 5]], 'pop': [[1000, 1]]})\n",
      "one_genre : [[500, 0], [400, 2], [300, 3], [200, 4], [100, 5]]\n",
      "one_genre : [[1000, 1]]\n"
     ]
    },
    {
     "data": {
      "text/plain": [
       "[0, 2, 1]"
      ]
     },
     "execution_count": 13,
     "metadata": {},
     "output_type": "execute_result"
    }
   ],
   "source": [
    "solution([\"classic\", \"pop\", \"classic\", \"classic\", \"classic\", \"classic\"], [500, 1000, 400, 300, 200, 100])  # 답 : [0,2,1]"
   ]
  },
  {
   "cell_type": "markdown",
   "metadata": {},
   "source": [
    "- 문제만 봤을 때는 brown, yellow의 최대 공약수를 구하는 것인 줄 알았는데, 3번째 테스트 케이스를 해보니 최대 공약수 문제가 아니었다.\n",
    "- 좀 더 여유있게 문제를 보고 고민하는 시간이 필요하다."
   ]
  }
 ],
 "metadata": {
  "kernelspec": {
   "display_name": "Python 3",
   "language": "python",
   "name": "python3"
  },
  "language_info": {
   "codemirror_mode": {
    "name": "ipython",
    "version": 3
   },
   "file_extension": ".py",
   "mimetype": "text/x-python",
   "name": "python",
   "nbconvert_exporter": "python",
   "pygments_lexer": "ipython3",
   "version": "3.7.9"
  }
 },
 "nbformat": 4,
 "nbformat_minor": 4
}

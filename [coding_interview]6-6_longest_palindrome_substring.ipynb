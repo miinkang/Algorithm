{
 "cells": [
  {
   "cell_type": "markdown",
   "metadata": {},
   "source": [
    "# Longest Palindrome Substring\n",
    "- original source : [leetcode 5.Longest Palindrome Substring](https://leetcode.com/problems/longest-palindromic-substring/)\n",
    "- source : 파이썬 알고리즘 인터뷰 6장 문자열 조작_6번 가장 긴 팰린드롬 부분 문자열\n",
    "- difficulty : medium   \n",
    "\n",
    "\n",
    "**[문제]**  \n",
    "Given a string s, return the longest palindromic substring in s.   \n",
    "가장 긴 팰린드롬 부분 문자열을 출력하세요.\n",
    "```\n",
    "Example 1:\n",
    "Input: s = \"babad\"\n",
    "Output: \"bab\"\n",
    "Note: \"aba\" is also a valid answer.\n",
    "```"
   ]
  },
  {
   "cell_type": "code",
   "execution_count": 26,
   "metadata": {},
   "outputs": [],
   "source": [
    "def longestPalindrome(s: str) -> str:\n",
    "    def expand(left: int, right: int) -> str:\n",
    "        while left >=0 and right <= len(s) and s[left] == s[right]:\n",
    "            left -= 1\n",
    "            right += 1\n",
    "        return s[left +1: right]\n",
    "    \n",
    "    if len(s) <2 or s == s[::-1]:\n",
    "        return s\n",
    "\n",
    "    result = ''\n",
    "    for i in range(len(s)-1):\n",
    "        result = max(result, expand(i, i), expand(i, i+1), key=len)\n",
    "    return result"
   ]
  },
  {
   "cell_type": "code",
   "execution_count": 27,
   "metadata": {},
   "outputs": [
    {
     "name": "stdout",
     "output_type": "stream",
     "text": [
      "bb\n"
     ]
    }
   ],
   "source": [
    "print(longestPalindrome(s = \"cbbd\"))"
   ]
  }
 ],
 "metadata": {
  "kernelspec": {
   "display_name": "Python 3",
   "language": "python",
   "name": "python3"
  },
  "language_info": {
   "codemirror_mode": {
    "name": "ipython",
    "version": 3
   },
   "file_extension": ".py",
   "mimetype": "text/x-python",
   "name": "python",
   "nbconvert_exporter": "python",
   "pygments_lexer": "ipython3",
   "version": "3.7.9"
  }
 },
 "nbformat": 4,
 "nbformat_minor": 4
}

{
 "cells": [
  {
   "attachments": {
    "image-3.png": {
     "image/png": "[encoded data removed]"
    },
    "image-4.png": {
     "image/png": "[encoded data removed]"
    }
   },
   "cell_type": "markdown",
   "metadata": {},
   "source": [
    "# 스타트와 링크\n",
    "- source : [백준 14889](https://www.acmicpc.net/problem/14889)\n",
    "- 난이도 : 실버 II\n",
    "- 분류 : 브루트 포스 알고리즘, 백트래킹 \n",
    "\n",
    "## 문제\n",
    "- 오늘은 스타트링크에 다니는 사람들이 모여서 축구를 해보려고 한다. 축구는 평일 오후에 하고 의무 참석도 아니다. 축구를 하기 위해 모인 사람은 총 N명이고 신기하게도 N은 짝수이다. 이제 N/2명으로 이루어진 스타트 팀과 링크 팀으로 사람들을 나눠야 한다.\n",
    "\n",
    "- BOJ를 운영하는 회사 답게 사람에게 번호를 1부터 N까지로 배정했고, 아래와 같은 능력치를 조사했다. 능력치 Sij는 i번 사람과 j번 사람이 같은 팀에 속했을 때, 팀에 더해지는 능력치이다. 팀의 능력치는 팀에 속한 모든 쌍의 능력치 Sij의 합이다. Sij는 Sji와 다를 수도 있으며, i번 사람과 j번 사람이 같은 팀에 속했을 때, 팀에 더해지는 능력치는 Sij와 Sji이다.\n",
    "\n",
    "- N=4이고, S가 아래와 같은 경우를 살펴보자.\n",
    "\n",
    "![image-3.png](attachment:image-3.png)\n",
    "\n",
    "- 예를 들어, 1, 2번이 스타트 팀, 3, 4번이 링크 팀에 속한 경우에 두 팀의 능력치는 아래와 같다.\n",
    "    - 스타트 팀: S12 + S21 = 1 + 4 = 5\n",
    "    - 링크 팀: S34 + S43 = 2 + 5 = 7\n",
    "\n",
    "- 1, 3번이 스타트 팀, 2, 4번이 링크 팀에 속하면, 두 팀의 능력치는 아래와 같다.\n",
    "    - 스타트 팀: S13 + S31 = 2 + 7 = 9\n",
    "    - 링크 팀: S24 + S42 = 6 + 4 = 10\n",
    "    \n",
    "- 축구를 재미있게 하기 위해서 스타트 팀의 능력치와 링크 팀의 능력치의 차이를 최소로 하려고 한다. 위의 예제와 같은 경우에는 1, 4번이 스타트 팀, 2, 3번 팀이 링크 팀에 속하면 스타트 팀의 능력치는 6, 링크 팀의 능력치는 6이 되어서 차이가 0이 되고 이 값이 최소이다.\n",
    "    \n",
    "## 입력\n",
    "- 첫째 줄에 N(4 ≤ N ≤ 20, N은 짝수)이 주어진다. 둘째 줄부터 N개의 줄에 S가 주어진다. 각 줄은 N개의 수로 이루어져 있고, i번 줄의 j번째 수는 Sij 이다. Sii는 항상 0이고, 나머지 Sij는 1보다 크거나 같고, 100보다 작거나 같은 정수이다.\n",
    "\n",
    "## 출력\n",
    "- 첫째 줄에 스타트 팀과 링크 팀의 능력치의 차이의 최솟값을 출력한다.\n",
    "\n",
    "![image-4.png](attachment:image-4.png)\n",
    "\n",
    "**pseudocode**    \n",
    "- itertools를 이용할 수 있을 것 같다.\n",
    "- combinations을 만든 후에, 모든 조합을 더해야하므로 permutaitons을 사용"
   ]
  },
  {
   "cell_type": "code",
   "execution_count": 1,
   "metadata": {},
   "outputs": [],
   "source": [
    "n = 4\n",
    "s = [[0, 1, 2, 3],\n",
    "[4, 0, 5, 6],\n",
    "[7, 1, 0, 2],\n",
    "[3, 4, 5, 0]]"
   ]
  },
  {
   "cell_type": "code",
   "execution_count": 17,
   "metadata": {},
   "outputs": [
    {
     "data": {
      "text/plain": [
       "[[0, 1, 2, 3], [4, 0, 5, 6], [7, 1, 0, 2], [3, 4, 5, 0]]"
      ]
     },
     "execution_count": 17,
     "metadata": {},
     "output_type": "execute_result"
    }
   ],
   "source": [
    "s"
   ]
  },
  {
   "cell_type": "code",
   "execution_count": 3,
   "metadata": {},
   "outputs": [
    {
     "data": {
      "text/plain": [
       "[0, 1, 2, 3]"
      ]
     },
     "execution_count": 3,
     "metadata": {},
     "output_type": "execute_result"
    }
   ],
   "source": [
    "player = [i for i in range(4)]\n",
    "player"
   ]
  },
  {
   "cell_type": "code",
   "execution_count": 10,
   "metadata": {},
   "outputs": [],
   "source": [
    "from itertools import combinations\n",
    "from itertools import permutations"
   ]
  },
  {
   "cell_type": "code",
   "execution_count": 12,
   "metadata": {
    "scrolled": true
   },
   "outputs": [
    {
     "name": "stdout",
     "output_type": "stream",
     "text": [
      "[(0, 1), (0, 2), (0, 3), (1, 2), (1, 3), (2, 3)] 6\n"
     ]
    }
   ],
   "source": [
    "p_comb = list(combinations(player, n//2))\n",
    "print(p_comb, len(p_comb))"
   ]
  },
  {
   "cell_type": "markdown",
   "metadata": {},
   "source": [
    "- 조합의 절반을 기준으로 start, link 두 팀으로 나눌 수 있다."
   ]
  },
  {
   "cell_type": "code",
   "execution_count": 24,
   "metadata": {},
   "outputs": [
    {
     "name": "stdout",
     "output_type": "stream",
     "text": [
      "[2, 1, 0]\n",
      "0\n"
     ]
    }
   ],
   "source": [
    "dif_list = []\n",
    "for start in range(len(p_comb)//2):\n",
    "    sum_start, sum_link = 0, 0\n",
    "    for i, j in list(permutations(p_comb[start],2)):\n",
    "        sum_start += s[i][j]\n",
    "    for i, j in list(permutations(p_comb[len(p_comb)-start-1], 2)):\n",
    "        sum_link += s[i][j]\n",
    "    dif_list.append(abs(sum_start - sum_link))\n",
    "\n",
    "print(dif_list)\n",
    "print(min(dif_list))"
   ]
  },
  {
   "cell_type": "markdown",
   "metadata": {},
   "source": [
    "**첫 번째 시도**"
   ]
  },
  {
   "cell_type": "code",
   "execution_count": 43,
   "metadata": {},
   "outputs": [
    {
     "name": "stdout",
     "output_type": "stream",
     "text": [
      "62\n"
     ]
    }
   ],
   "source": [
    "import sys\n",
    "from itertools import combinations\n",
    "from itertools import permutations\n",
    "\n",
    "n = int(sys.stdin.readline())\n",
    "s = []\n",
    "for i in range(n):\n",
    "    s.append(list(map(int, sys.stdin.readline().split())))\n",
    "\n",
    "player = [i for i in range(n)]\n",
    "p_comb = list(combinations(player, n//2))  # 팀 구성 조합\n",
    "\n",
    "dif_list = [] # 최솟값을 구하기 위한 리스트 \n",
    "for start in range(len(p_comb)//2):\n",
    "    sum_start, sum_link = 0, 0\n",
    "    for i, j in list(permutations(p_comb[start],2)):\n",
    "        sum_start += s[i][j]\n",
    "    for i, j in list(permutations(p_comb[len(p_comb)-start-1], 2)):\n",
    "        sum_link += s[i][j]\n",
    "    dif_list.append(abs(sum_start - sum_link))\n",
    "\n",
    "print(min(dif_list))"
   ]
  },
  {
   "attachments": {
    "image-3.png": {
     "image/png": "[encoded data removed]"
    }
   },
   "cell_type": "markdown",
   "metadata": {},
   "source": [
    "![image-3.png](attachment:image-3.png)"
   ]
  },
  {
   "cell_type": "markdown",
   "metadata": {},
   "source": [
    "- 채점이 꽤 오래걸렸다...!\n",
    "- dfs를 사용한 풀이가 많던데 dfs로 다시 풀어봐야겠다.\n",
    "- 두 팀으로 나누는 로직은 다른 풀이를 참고했다.\n",
    "    - [Ref1](https://ez17.tistory.com/7)\n",
    "    - [Ref2](https://velog.io/@qweadzs/BOJ-14889-%EC%8A%A4%ED%83%80%ED%8A%B8%EC%99%80-%EB%A7%81%ED%81%ACPython)"
   ]
  }
 ],
 "metadata": {
  "kernelspec": {
   "display_name": "Python 3",
   "language": "python",
   "name": "python3"
  },
  "language_info": {
   "codemirror_mode": {
    "name": "ipython",
    "version": 3
   },
   "file_extension": ".py",
   "mimetype": "text/x-python",
   "name": "python",
   "nbconvert_exporter": "python",
   "pygments_lexer": "ipython3",
   "version": "3.7.9"
  }
 },
 "nbformat": 4,
 "nbformat_minor": 4
}

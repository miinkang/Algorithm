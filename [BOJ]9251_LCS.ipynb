{
 "cells": [
  {
   "attachments": {
    "image-6.png": {
     "image/png": "[encoded data removed]"
    }
   },
   "cell_type": "markdown",
   "metadata": {},
   "source": [
    "# LCS\n",
    "- source : [백준 9251](https://www.acmicpc.net/problem/9251)\n",
    "- 난이도 : 골드 V\n",
    "- 분류 : 다이나믹 프로그래밍, 문자열\n",
    "\n",
    "## 문제\n",
    "- LCS(Longest Common Subsequence, 최장 공통 부분 수열)문제는 두 수열이 주어졌을 때, 모두의 부분 수열이 되는 수열 중 가장 긴 것을 찾는 문제이다.\n",
    "\n",
    "- 예를 들어, ACAYKP와 CAPCAK의 LCS는 ACAK가 된다.\n",
    "    \n",
    "## 입력\n",
    "- 첫째 줄과 둘째 줄에 두 문자열이 주어진다. 문자열은 알파벳 대문자로만 이루어져 있으며, 최대 1000글자로 이루어져 있다.\n",
    "\n",
    "## 출력\n",
    "- 첫째 줄에 입력으로 주어진 두 문자열의 LCS의 길이를 출력한다.\n",
    "\n",
    "![image-6.png](attachment:image-6.png)"
   ]
  },
  {
   "cell_type": "code",
   "execution_count": 13,
   "metadata": {},
   "outputs": [
    {
     "name": "stdout",
     "output_type": "stream",
     "text": [
      "4\n",
      "[[0, 0, 0, 0, 0, 0, 0], [0, 0, 1, 1, 1, 1, 1], [0, 1, 1, 1, 2, 2, 2], [0, 1, 2, 2, 2, 3, 3], [0, 1, 2, 2, 2, 3, 3], [0, 1, 2, 2, 2, 3, 4], [0, 1, 2, 3, 3, 3, 4]]\n"
     ]
    }
   ],
   "source": [
    "sen1 = \"ACAYKP\"\n",
    "sen2 = \"CAPCAK\"\n",
    "# 출력 : 4 \n",
    "\n",
    "len1 = len(sen1)\n",
    "len2 = len(sen2)\n",
    "\n",
    "dp = [[0 for _ in range(len1+1)] for _ in range(len2+1)]\n",
    "\n",
    "for i in range(1, len1+1):\n",
    "    for j in range(1, len2+1): \n",
    "        if sen1[i-1] == sen2[j-1]:\n",
    "            dp[i][j] = dp[i-1][j-1] + 1\n",
    "            \n",
    "        else:\n",
    "            dp[i][j] = max(dp[i-1][j], dp[i][j-1])\n",
    "            \n",
    "print(dp[len1][len2])\n",
    "print(dp)"
   ]
  },
  {
   "cell_type": "code",
   "execution_count": 20,
   "metadata": {},
   "outputs": [
    {
     "name": "stdout",
     "output_type": "stream",
     "text": [
      "14\n"
     ]
    }
   ],
   "source": [
    "n, k = 4, 7\n",
    "stuff = [[0, 0],\n",
    "        [6, 13],\n",
    "         [4, 8],\n",
    "         [3, 6],\n",
    "         [5, 12]]\n",
    "# 출력 : 14\n",
    "\n",
    "\n",
    "\n",
    "dp = [[0 for _ in range(k+1)] for _ in range(n+1)]\n",
    "\n",
    "for i in range(1, n+1):\n",
    "    for j in range(1, k+1):\n",
    "        weight = stuff[i][0]\n",
    "        value = stuff[i][-1]\n",
    "        \n",
    "        if j < weight:\n",
    "            dp[i][j] = dp[i-1][j]\n",
    "            \n",
    "        else:\n",
    "            dp[i][j] = max(dp[i-1][j], value+dp[i-1][j-weight])\n",
    "\n",
    "print(dp[n][k])"
   ]
  },
  {
   "cell_type": "markdown",
   "metadata": {},
   "source": [
    "- 테스트케이스보다 적게 모든 경우의 dp를 구한 후에 그 안에서 규칙을 찾는 방식으로 이해했다.    \n",
    "- dp\\[i\\]\\[j\\] = sen1\\[:i\\] 과 sen2\\[:j\\] 의 lcs이다. \n",
    "\n",
    "**최종 코드**"
   ]
  },
  {
   "cell_type": "code",
   "execution_count": null,
   "metadata": {},
   "outputs": [],
   "source": [
    "import sys\n",
    "\n",
    "inp = sys.stdin.readline\n",
    "\n",
    "sen1 = inp().strip()\n",
    "sen2 = inp().strip()\n",
    "\n",
    "len1 = len(sen1)\n",
    "len2 = len(sen2)\n",
    "\n",
    "dp = [[0 for _ in range(len1+1)] for _ in range(len2+1)]\n",
    "\n",
    "for i in range(1, len1+1):\n",
    "    for j in range(1, len2+1): \n",
    "        if sen1[i-1] == sen2[j-1]:\n",
    "            dp[i][j] = dp[i-1][j-1] + 1\n",
    "            \n",
    "        else:\n",
    "            dp[i][j] = max(dp[i-1][j], dp[i][j-1])\n",
    "            \n",
    "print(dp[-1][-1])"
   ]
  },
  {
   "attachments": {
    "image-4.png": {
     "image/png": "[encoded data removed]"
    }
   },
   "cell_type": "markdown",
   "metadata": {},
   "source": [
    "![image-4.png](attachment:image-4.png)\n",
    "- [코드 출처](https://myjamong.tistory.com/317)\n",
    "- [설명 참고2](https://st-lab.tistory.com/139)"
   ]
  }
 ],
 "metadata": {
  "kernelspec": {
   "display_name": "Python 3",
   "language": "python",
   "name": "python3"
  },
  "language_info": {
   "codemirror_mode": {
    "name": "ipython",
    "version": 3
   },
   "file_extension": ".py",
   "mimetype": "text/x-python",
   "name": "python",
   "nbconvert_exporter": "python",
   "pygments_lexer": "ipython3",
   "version": "3.7.9"
  }
 },
 "nbformat": 4,
 "nbformat_minor": 4
}

{
 "cells": [
  {
   "cell_type": "markdown",
   "metadata": {},
   "source": [
    "# Stock Price\n",
    "- [source](https://programmers.co.kr/learn/courses/30/lessons/42584) : programmers, stack/queue  \n",
    "## 문제 설명\n",
    "초 단위로 기록된 주식가격이 담긴 배열 prices가 매개변수로 주어질 때, 가격이 떨어지지 않은 기간은 몇 초인지를 return 하도록 solution 함수를 완성하세요.\n",
    "\n",
    "## 제한사항\n",
    "- prices의 각 가격은 1 이상 10,000 이하인 자연수입니다.\n",
    "- prices의 길이는 2 이상 100,000 이하입니다.  \n",
    "\n",
    "**try 01**\n",
    "- trouble : test case 중 1개만 통과했다. \n",
    "- 해당 사항이 없으면 두 번째 for 문을 빠져나와야한다. 돌 필요 없음 "
   ]
  },
  {
   "cell_type": "code",
   "execution_count": 5,
   "metadata": {},
   "outputs": [],
   "source": [
    "def solution(prices):\n",
    "    answer = [0 for i in range(len(prices))]\n",
    "    for i in range(len(prices)-1):\n",
    "        for j in range(i+1, len(prices)):\n",
    "            if prices[i] <= prices[j]:\n",
    "                answer[i] += 1 \n",
    "    return answer"
   ]
  },
  {
   "cell_type": "code",
   "execution_count": 6,
   "metadata": {},
   "outputs": [
    {
     "data": {
      "text/plain": [
       "[4, 3, 1, 1, 0]"
      ]
     },
     "execution_count": 6,
     "metadata": {},
     "output_type": "execute_result"
    }
   ],
   "source": [
    "solution([1,2,3,2,3])"
   ]
  },
  {
   "cell_type": "markdown",
   "metadata": {},
   "source": [
    "**try 02**\n",
    "- trouble : 1초 후에 가격이 떨어져도 1초동안 떨어지지 않은 것으로 계산되어야 한다."
   ]
  },
  {
   "cell_type": "code",
   "execution_count": 7,
   "metadata": {},
   "outputs": [],
   "source": [
    "def solution(prices):\n",
    "    answer = [0 for i in range(len(prices))]\n",
    "    for i in range(len(prices)-1):\n",
    "        for j in range(i+1, len(prices)):\n",
    "            \n",
    "            if prices[i] > prices[j]:\n",
    "                break\n",
    "            elif prices[i] <= prices[j]:\n",
    "                answer[i] +=1\n",
    "                \n",
    "            \n",
    "    return answer"
   ]
  },
  {
   "cell_type": "markdown",
   "metadata": {},
   "source": [
    "**try 03**  \n",
    "**correct!**\n",
    "- 가격 떨어졌는지 확인 전에 1초를 더해준다. "
   ]
  },
  {
   "cell_type": "code",
   "execution_count": 9,
   "metadata": {},
   "outputs": [],
   "source": [
    "def solution(prices):\n",
    "    answer = [0 for i in range(len(prices))]\n",
    "    for i in range(len(prices)-1):\n",
    "        for j in range(i+1, len(prices)):\n",
    "            answer[i] +=1\n",
    "            if prices[i] > prices[j]:\n",
    "                break\n",
    "                \n",
    "            \n",
    "    return answer"
   ]
  },
  {
   "cell_type": "markdown",
   "metadata": {},
   "source": [
    "**try 04**  \n",
    "**Correct!**  \n",
    "- queue 를 이용해서 풀기\n",
    "     1. deque import\n",
    "     2. 맨 앞의 값부터 pop 후 비교\n",
    "     3. 전체 리스트가 없어질 때까지 반복"
   ]
  },
  {
   "cell_type": "code",
   "execution_count": 10,
   "metadata": {},
   "outputs": [],
   "source": [
    "from collections import deque\n",
    "def solution(prices):\n",
    "    answer = []\n",
    "    q_prices = deque(prices)\n",
    "    \n",
    "    while q_prices:\n",
    "        price = q_prices.popleft()\n",
    "        time = 0\n",
    "        for n in q_prices:\n",
    "            time += 1\n",
    "            if price > n:\n",
    "                break\n",
    "        answer.append(time)\n",
    "                \n",
    "    return answer"
   ]
  },
  {
   "cell_type": "code",
   "execution_count": null,
   "metadata": {},
   "outputs": [],
   "source": []
  }
 ],
 "metadata": {
  "kernelspec": {
   "display_name": "Python 3",
   "language": "python",
   "name": "python3"
  },
  "language_info": {
   "codemirror_mode": {
    "name": "ipython",
    "version": 3
   },
   "file_extension": ".py",
   "mimetype": "text/x-python",
   "name": "python",
   "nbconvert_exporter": "python",
   "pygments_lexer": "ipython3",
   "version": "3.7.9"
  }
 },
 "nbformat": 4,
 "nbformat_minor": 4
}

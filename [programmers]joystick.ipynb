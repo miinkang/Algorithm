{
 "cells": [
  {
   "attachments": {
    "image-9.png": {
     "image/png": "[encoded data removed]"
    }
   },
   "cell_type": "markdown",
   "metadata": {},
   "source": [
    "# 조이스틱\n",
    "- source : [조이스틱](https://programmers.co.kr/learn/courses/30/lessons/42860)\n",
    "- level : 2\n",
    "- type : 그리디\n",
    "\n",
    "## 문제 설명 \n",
    "조이스틱으로 알파벳 이름을 완성하세요. 맨 처음엔 A로만 이루어져 있습니다.\n",
    "ex) 완성해야 하는 이름이 세 글자면 AAA, 네 글자면 AAAA\n",
    "\n",
    "조이스틱을 각 방향으로 움직이면 아래와 같습니다.\n",
    "```\n",
    "▲ - 다음 알파벳   \n",
    "▼ - 이전 알파벳 (A에서 아래쪽으로 이동하면 Z로)   \n",
    "◀ - 커서를 왼쪽으로 이동 (첫 번째 위치에서 왼쪽으로 이동하면 마지막 문자에 커서)\n",
    "▶ - 커서를 오른쪽으로 이동\n",
    "```\n",
    "\n",
    "예를 들어 아래의 방법으로 \"JAZ\"를 만들 수 있습니다.\n",
    "\n",
    "```\n",
    "- 첫 번째 위치에서 조이스틱을 위로 9번 조작하여 J를 완성합니다.\n",
    "- 조이스틱을 왼쪽으로 1번 조작하여 커서를 마지막 문자 위치로 이동시킵니다.\n",
    "- 마지막 위치에서 조이스틱을 아래로 1번 조작하여 Z를 완성합니다.\n",
    "따라서 11번 이동시켜 \"JAZ\"를 만들 수 있고, 이때가 최소 이동입니다.\n",
    "```\n",
    "\n",
    "만들고자 하는 이름 name이 매개변수로 주어질 때, 이름에 대해 조이스틱 조작 횟수의 최솟값을 return 하도록 solution 함수를 만드세요.\n",
    "\n",
    "### 제한 사항\n",
    "- name은 알파벳 대문자로만 이루어져 있습니다.\n",
    "- name의 길이는 1 이상 20 이하입니다.\n",
    "\n",
    "![image-9.png](attachment:image-9.png)\n"
   ]
  },
  {
   "cell_type": "markdown",
   "metadata": {},
   "source": [
    "## 1st trial"
   ]
  },
  {
   "cell_type": "markdown",
   "metadata": {},
   "source": [
    "### pseudo code\n",
    "\n",
    "- AAA 를 원하는 이름으로 바꾸기     \n",
    "- 알파벳을 아스키코드로 변환하는 방법 (A:65, Z:90)   \n",
    "    - A-1=Z 를 어떻게 만들 수 있을까...\n",
    "\n",
    "\n",
    "1. name 길이를 가진 임시 단어(e.g. \"AAA\") 만들기 \n",
    "2. 알파벳 바꾸는 조작 버튼 => 아스키 코드 계산 차로 구하기 \n",
    "    - e.g. A -> F : 65 - 70 = 5회 조작 \n",
    "    - 단, 차가 13 이상일 경우는 이전 알파벳으로 계산하는 게 더 적기 때문에 해당 값에서 -1 해준다. => 잘못된 계산\n",
    "        - 차가 13 이상 : N보다 큰 알파벳일 경우, Z와의 차를 계산 후 +1(A->Z)해준다. \n",
    "3. name을 반복하면서 반복문 1회 돌 때마다 조작 횟수 +1 "
   ]
  },
  {
   "cell_type": "code",
   "execution_count": 1,
   "metadata": {},
   "outputs": [],
   "source": [
    "na = \"JAN\"\n",
    "tmp = \"AAA\""
   ]
  },
  {
   "cell_type": "code",
   "execution_count": 12,
   "metadata": {},
   "outputs": [
    {
     "data": {
      "text/plain": [
       "26"
      ]
     },
     "execution_count": 12,
     "metadata": {},
     "output_type": "execute_result"
    }
   ],
   "source": [
    "abs(ord(\"A\") - ord(\"Z\")) +1"
   ]
  },
  {
   "cell_type": "code",
   "execution_count": 10,
   "metadata": {},
   "outputs": [
    {
     "data": {
      "text/plain": [
       "'AAA'"
      ]
     },
     "execution_count": 10,
     "metadata": {},
     "output_type": "execute_result"
    }
   ],
   "source": [
    "len(na) * \"A\""
   ]
  },
  {
   "cell_type": "code",
   "execution_count": 1,
   "metadata": {},
   "outputs": [
    {
     "data": {
      "text/plain": [
       "False"
      ]
     },
     "execution_count": 1,
     "metadata": {},
     "output_type": "execute_result"
    }
   ],
   "source": [
    "\"N\" < \"N\""
   ]
  },
  {
   "cell_type": "code",
   "execution_count": 9,
   "metadata": {},
   "outputs": [],
   "source": [
    "def solution(name):\n",
    "    answer = 0\n",
    "    tmp = \"A\" * len(name)\n",
    "    for cha in name:\n",
    "        print(cha)\n",
    "        if abs(ord(cha) - ord(\"A\")) < 13:\n",
    "            answer += abs(ord(cha) - ord(\"A\"))\n",
    "            print(answer)\n",
    "        else:\n",
    "            print(\"else\")\n",
    "            answer += (abs(ord(cha) - ord(\"A\")))-1\n",
    "            print(answer)\n",
    "            \n",
    "    answer += len(name)-1\n",
    "    return answer"
   ]
  },
  {
   "cell_type": "code",
   "execution_count": 10,
   "metadata": {
    "scrolled": false
   },
   "outputs": [
    {
     "name": "stdout",
     "output_type": "stream",
     "text": [
      "J\n",
      "9\n",
      "A\n",
      "9\n",
      "N\n",
      "else\n",
      "21\n"
     ]
    },
    {
     "data": {
      "text/plain": [
       "23"
      ]
     },
     "execution_count": 10,
     "metadata": {},
     "output_type": "execute_result"
    }
   ],
   "source": [
    "solution(\"JAN\")  # 답 : 23"
   ]
  },
  {
   "cell_type": "code",
   "execution_count": 6,
   "metadata": {},
   "outputs": [],
   "source": [
    "def solution(name):\n",
    "    answer = 0\n",
    "    tmp = \"A\" * len(name)\n",
    "    for cha in name:\n",
    "        print(cha)\n",
    "        if cha < \"N\":\n",
    "            answer += abs(ord(cha) - ord(\"A\"))\n",
    "            print(answer)\n",
    "        else:\n",
    "            print(\"else\")\n",
    "            answer += (abs(ord(\"Z\") - ord(cha)))+1\n",
    "            print(answer)\n",
    "            \n",
    "    answer += len(name)-1\n",
    "    return answer"
   ]
  },
  {
   "cell_type": "code",
   "execution_count": 7,
   "metadata": {
    "scrolled": false
   },
   "outputs": [
    {
     "name": "stdout",
     "output_type": "stream",
     "text": [
      "J\n",
      "9\n",
      "A\n",
      "9\n",
      "N\n",
      "else\n",
      "22\n"
     ]
    },
    {
     "data": {
      "text/plain": [
       "24"
      ]
     },
     "execution_count": 7,
     "metadata": {},
     "output_type": "execute_result"
    }
   ],
   "source": [
    "solution(\"JAN\")  # 답 : 23"
   ]
  },
  {
   "cell_type": "code",
   "execution_count": 8,
   "metadata": {
    "scrolled": true
   },
   "outputs": [
    {
     "name": "stdout",
     "output_type": "stream",
     "text": [
      "J\n",
      "9\n",
      "E\n",
      "13\n",
      "R\n",
      "else\n",
      "22\n",
      "O\n",
      "else\n",
      "34\n",
      "E\n",
      "38\n",
      "N\n",
      "else\n",
      "51\n"
     ]
    },
    {
     "data": {
      "text/plain": [
       "56"
      ]
     },
     "execution_count": 8,
     "metadata": {},
     "output_type": "execute_result"
    }
   ],
   "source": [
    "solution(\"JEROEN\")  # 답 : 56\n",
    "                    # j : 9, E : 4, R : "
   ]
  },
  {
   "cell_type": "code",
   "execution_count": 13,
   "metadata": {},
   "outputs": [],
   "source": [
    "def solution(name):\n",
    "    answer = 0\n",
    "    tmp = \"A\" * len(name)\n",
    "    for cha in name:\n",
    "        print(cha)\n",
    "        if cha == \"Z\":\n",
    "            answer += 1 \n",
    "            \n",
    "        else:\n",
    "            answer += min(abs(ord(cha) - ord(\"A\")), (abs(ord(\"Z\") - ord(cha)))+1)\n",
    "        print(answer)\n",
    "            \n",
    "    answer += len(name)-1\n",
    "    return answer"
   ]
  },
  {
   "cell_type": "code",
   "execution_count": 14,
   "metadata": {
    "scrolled": false
   },
   "outputs": [
    {
     "name": "stdout",
     "output_type": "stream",
     "text": [
      "J\n",
      "9\n",
      "A\n",
      "9\n",
      "N\n",
      "22\n"
     ]
    },
    {
     "data": {
      "text/plain": [
       "24"
      ]
     },
     "execution_count": 14,
     "metadata": {},
     "output_type": "execute_result"
    }
   ],
   "source": [
    "solution(\"JAN\")  # 답 : 23"
   ]
  },
  {
   "cell_type": "code",
   "execution_count": 15,
   "metadata": {
    "scrolled": true
   },
   "outputs": [
    {
     "name": "stdout",
     "output_type": "stream",
     "text": [
      "J\n",
      "9\n",
      "E\n",
      "13\n",
      "R\n",
      "22\n",
      "O\n",
      "34\n",
      "E\n",
      "38\n",
      "N\n",
      "51\n"
     ]
    },
    {
     "data": {
      "text/plain": [
       "56"
      ]
     },
     "execution_count": 15,
     "metadata": {},
     "output_type": "execute_result"
    }
   ],
   "source": [
    "solution(\"JEROEN\")  # 답 : 56\n",
    "                    # j : 9, E : 4, R : "
   ]
  },
  {
   "cell_type": "markdown",
   "metadata": {},
   "source": []
  }
 ],
 "metadata": {
  "kernelspec": {
   "display_name": "Python 3",
   "language": "python",
   "name": "python3"
  },
  "language_info": {
   "codemirror_mode": {
    "name": "ipython",
    "version": 3
   },
   "file_extension": ".py",
   "mimetype": "text/x-python",
   "name": "python",
   "nbconvert_exporter": "python",
   "pygments_lexer": "ipython3",
   "version": "3.7.9"
  }
 },
 "nbformat": 4,
 "nbformat_minor": 4
}
